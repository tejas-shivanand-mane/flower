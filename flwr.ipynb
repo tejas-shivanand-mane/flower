{
 "cells": [
  {
   "cell_type": "code",
   "execution_count": 1,
   "id": "294bbf2f",
   "metadata": {},
   "outputs": [],
   "source": [
    "import os\n",
    "from joblib import Parallel, delayed\n",
    "import time\n",
    "import numpy as np\n",
    "import pickle\n",
    "import pylab as pl\n",
    "import pandas as pd\n",
    "import copy\n",
    "# import jupyternotify\n",
    "import subprocess\n",
    "import concurrent.futures\n",
    "import shutil"
   ]
  },
  {
   "cell_type": "code",
   "execution_count": 2,
   "id": "c380cbec",
   "metadata": {},
   "outputs": [],
   "source": [
    "regions = ['us-central1-a', 'europe-west3-c', 'asia-south1-c',\\\n",
    "           'us-central1-a', 'europe-west3-c', 'asia-south1-c',\\\n",
    "           'us-central1-a', 'europe-west3-c', 'asia-south1-c',\\\n",
    "           'us-central1-a', 'europe-west3-c', 'asia-south1-c',\\\n",
    "           'us-central1-a', 'europe-west3-c', 'asia-south1-c', 'us-central1-a']"
   ]
  },
  {
   "cell_type": "code",
   "execution_count": null,
   "id": "51d21c78",
   "metadata": {
    "scrolled": true
   },
   "outputs": [
    {
     "name": "stderr",
     "output_type": "stream",
     "text": [
      "Created [https://www.googleapis.com/compute/v1/projects/ucr-ursa-major-lesani-lab/zones/us-central1-a/instances/flwr-000].\n",
      "WARNING: Some requests generated warnings:\n",
      " - Disk size: '30 GB' is larger than image size: '10 GB'. You might need to resize the root repartition manually if the operating system does not support automatic resizing. See https://cloud.google.com/compute/docs/disks/add-persistent-disk#resize_pd for details.\n",
      "\n"
     ]
    },
    {
     "name": "stdout",
     "output_type": "stream",
     "text": [
      "NAME      ZONE           MACHINE_TYPE  PREEMPTIBLE  INTERNAL_IP    EXTERNAL_IP   STATUS\n",
      "flwr-000  us-central1-a  e2-medium                  10.128.15.209  35.238.47.57  RUNNING\n"
     ]
    },
    {
     "name": "stderr",
     "output_type": "stream",
     "text": [
      "Created [https://www.googleapis.com/compute/v1/projects/ucr-ursa-major-lesani-lab/zones/europe-west3-c/instances/flwr-001].\n",
      "WARNING: Some requests generated warnings:\n",
      " - Disk size: '30 GB' is larger than image size: '10 GB'. You might need to resize the root repartition manually if the operating system does not support automatic resizing. See https://cloud.google.com/compute/docs/disks/add-persistent-disk#resize_pd for details.\n",
      "\n"
     ]
    },
    {
     "name": "stdout",
     "output_type": "stream",
     "text": [
      "NAME      ZONE            MACHINE_TYPE  PREEMPTIBLE  INTERNAL_IP  EXTERNAL_IP    STATUS\n",
      "flwr-001  europe-west3-c  e2-medium                  10.156.0.8   34.159.31.246  RUNNING\n"
     ]
    },
    {
     "name": "stderr",
     "output_type": "stream",
     "text": [
      "Created [https://www.googleapis.com/compute/v1/projects/ucr-ursa-major-lesani-lab/zones/asia-south1-c/instances/flwr-002].\n",
      "WARNING: Some requests generated warnings:\n",
      " - Disk size: '30 GB' is larger than image size: '10 GB'. You might need to resize the root repartition manually if the operating system does not support automatic resizing. See https://cloud.google.com/compute/docs/disks/add-persistent-disk#resize_pd for details.\n",
      "\n"
     ]
    },
    {
     "name": "stdout",
     "output_type": "stream",
     "text": [
      "NAME      ZONE           MACHINE_TYPE  PREEMPTIBLE  INTERNAL_IP  EXTERNAL_IP     STATUS\n",
      "flwr-002  asia-south1-c  e2-medium                  10.160.0.81  35.200.186.214  RUNNING\n"
     ]
    },
    {
     "name": "stderr",
     "output_type": "stream",
     "text": [
      "Created [https://www.googleapis.com/compute/v1/projects/ucr-ursa-major-lesani-lab/zones/us-central1-a/instances/flwr-003].\n",
      "WARNING: Some requests generated warnings:\n",
      " - Disk size: '30 GB' is larger than image size: '10 GB'. You might need to resize the root repartition manually if the operating system does not support automatic resizing. See https://cloud.google.com/compute/docs/disks/add-persistent-disk#resize_pd for details.\n",
      "\n"
     ]
    },
    {
     "name": "stdout",
     "output_type": "stream",
     "text": [
      "NAME      ZONE           MACHINE_TYPE  PREEMPTIBLE  INTERNAL_IP    EXTERNAL_IP   STATUS\n",
      "flwr-003  us-central1-a  e2-medium                  10.128.15.211  34.132.137.6  RUNNING\n"
     ]
    },
    {
     "name": "stderr",
     "output_type": "stream",
     "text": [
      "Created [https://www.googleapis.com/compute/v1/projects/ucr-ursa-major-lesani-lab/zones/europe-west3-c/instances/flwr-004].\n",
      "WARNING: Some requests generated warnings:\n",
      " - Disk size: '30 GB' is larger than image size: '10 GB'. You might need to resize the root repartition manually if the operating system does not support automatic resizing. See https://cloud.google.com/compute/docs/disks/add-persistent-disk#resize_pd for details.\n",
      "\n"
     ]
    },
    {
     "name": "stdout",
     "output_type": "stream",
     "text": [
      "NAME      ZONE            MACHINE_TYPE  PREEMPTIBLE  INTERNAL_IP  EXTERNAL_IP   STATUS\n",
      "flwr-004  europe-west3-c  e2-medium                  10.156.0.46  35.198.72.77  RUNNING\n"
     ]
    },
    {
     "name": "stderr",
     "output_type": "stream",
     "text": [
      "Created [https://www.googleapis.com/compute/v1/projects/ucr-ursa-major-lesani-lab/zones/asia-south1-c/instances/flwr-005].\n",
      "WARNING: Some requests generated warnings:\n",
      " - Disk size: '30 GB' is larger than image size: '10 GB'. You might need to resize the root repartition manually if the operating system does not support automatic resizing. See https://cloud.google.com/compute/docs/disks/add-persistent-disk#resize_pd for details.\n",
      "\n"
     ]
    },
    {
     "name": "stdout",
     "output_type": "stream",
     "text": [
      "NAME      ZONE           MACHINE_TYPE  PREEMPTIBLE  INTERNAL_IP  EXTERNAL_IP    STATUS\n",
      "flwr-005  asia-south1-c  e2-medium                  10.160.0.88  34.47.130.246  RUNNING\n"
     ]
    },
    {
     "name": "stderr",
     "output_type": "stream",
     "text": [
      "Created [https://www.googleapis.com/compute/v1/projects/ucr-ursa-major-lesani-lab/zones/us-central1-a/instances/flwr-006].\n",
      "WARNING: Some requests generated warnings:\n",
      " - Disk size: '30 GB' is larger than image size: '10 GB'. You might need to resize the root repartition manually if the operating system does not support automatic resizing. See https://cloud.google.com/compute/docs/disks/add-persistent-disk#resize_pd for details.\n",
      "\n"
     ]
    },
    {
     "name": "stdout",
     "output_type": "stream",
     "text": [
      "NAME      ZONE           MACHINE_TYPE  PREEMPTIBLE  INTERNAL_IP    EXTERNAL_IP  STATUS\n",
      "flwr-006  us-central1-a  e2-medium                  10.128.15.212  34.66.22.93  RUNNING\n"
     ]
    },
    {
     "name": "stderr",
     "output_type": "stream",
     "text": [
      "Created [https://www.googleapis.com/compute/v1/projects/ucr-ursa-major-lesani-lab/zones/europe-west3-c/instances/flwr-007].\n",
      "WARNING: Some requests generated warnings:\n",
      " - Disk size: '30 GB' is larger than image size: '10 GB'. You might need to resize the root repartition manually if the operating system does not support automatic resizing. See https://cloud.google.com/compute/docs/disks/add-persistent-disk#resize_pd for details.\n",
      "\n"
     ]
    },
    {
     "name": "stdout",
     "output_type": "stream",
     "text": [
      "NAME      ZONE            MACHINE_TYPE  PREEMPTIBLE  INTERNAL_IP  EXTERNAL_IP   STATUS\n",
      "flwr-007  europe-west3-c  e2-medium                  10.156.0.55  34.107.71.85  RUNNING\n"
     ]
    },
    {
     "name": "stderr",
     "output_type": "stream",
     "text": [
      "Created [https://www.googleapis.com/compute/v1/projects/ucr-ursa-major-lesani-lab/zones/asia-south1-c/instances/flwr-008].\n",
      "WARNING: Some requests generated warnings:\n",
      " - Disk size: '30 GB' is larger than image size: '10 GB'. You might need to resize the root repartition manually if the operating system does not support automatic resizing. See https://cloud.google.com/compute/docs/disks/add-persistent-disk#resize_pd for details.\n",
      "\n"
     ]
    },
    {
     "name": "stdout",
     "output_type": "stream",
     "text": [
      "NAME      ZONE           MACHINE_TYPE  PREEMPTIBLE  INTERNAL_IP  EXTERNAL_IP    STATUS\n",
      "flwr-008  asia-south1-c  e2-medium                  10.160.0.89  34.100.188.48  RUNNING\n"
     ]
    },
    {
     "name": "stderr",
     "output_type": "stream",
     "text": [
      "Created [https://www.googleapis.com/compute/v1/projects/ucr-ursa-major-lesani-lab/zones/us-central1-a/instances/flwr-009].\n",
      "WARNING: Some requests generated warnings:\n",
      " - Disk size: '30 GB' is larger than image size: '10 GB'. You might need to resize the root repartition manually if the operating system does not support automatic resizing. See https://cloud.google.com/compute/docs/disks/add-persistent-disk#resize_pd for details.\n",
      "\n"
     ]
    },
    {
     "name": "stdout",
     "output_type": "stream",
     "text": [
      "NAME      ZONE           MACHINE_TYPE  PREEMPTIBLE  INTERNAL_IP    EXTERNAL_IP    STATUS\n",
      "flwr-009  us-central1-a  e2-medium                  10.128.15.213  34.133.37.246  RUNNING\n"
     ]
    },
    {
     "name": "stderr",
     "output_type": "stream",
     "text": [
      "Created [https://www.googleapis.com/compute/v1/projects/ucr-ursa-major-lesani-lab/zones/europe-west3-c/instances/flwr-010].\n",
      "WARNING: Some requests generated warnings:\n",
      " - Disk size: '30 GB' is larger than image size: '10 GB'. You might need to resize the root repartition manually if the operating system does not support automatic resizing. See https://cloud.google.com/compute/docs/disks/add-persistent-disk#resize_pd for details.\n",
      "\n"
     ]
    },
    {
     "name": "stdout",
     "output_type": "stream",
     "text": [
      "NAME      ZONE            MACHINE_TYPE  PREEMPTIBLE  INTERNAL_IP  EXTERNAL_IP   STATUS\n",
      "flwr-010  europe-west3-c  e2-medium                  10.156.0.56  34.89.170.26  RUNNING\n"
     ]
    }
   ],
   "source": [
    "for i in range(len(regions)):\n",
    "    \n",
    "\n",
    "    cmd = 'gcloud compute instances create flwr-'+f\"{i:03}\"+' \\\n",
    "    --project=ucr-ursa-major-lesani-lab \\\n",
    "    --zone='+regions[i]+' \\\n",
    "    --machine-type=e2-medium \\\n",
    "    --network-interface=network-tier=PREMIUM,stack-type=IPV4_ONLY,subnet=default \\\n",
    "    --maintenance-policy=MIGRATE \\\n",
    "    --provisioning-model=STANDARD \\\n",
    "    --service-account=961693926925-compute@developer.gserviceaccount.com \\\n",
    "    --scopes=https://www.googleapis.com/auth/devstorage.read_only,https://www.googleapis.com/auth/logging.write,https://www.googleapis.com/auth/monitoring.write,https://www.googleapis.com/auth/service.management.readonly,https://www.googleapis.com/auth/servicecontrol,https://www.googleapis.com/auth/trace.append \\\n",
    "    --create-disk=auto-delete=yes,boot=yes,device-name=instance-20240829-120659,image=projects/debian-cloud/global/images/debian-12-bookworm-v20240815,mode=rw,size=30,type=pd-balanced \\\n",
    "    --no-shielded-secure-boot \\\n",
    "    --shielded-vtpm \\\n",
    "    --shielded-integrity-monitoring \\\n",
    "    --labels=goog-ec-src=vm_add-gcloud \\\n",
    "    --reservation-affinity=any'\n",
    "    \n",
    "    os.system(cmd)"
   ]
  },
  {
   "cell_type": "code",
   "execution_count": null,
   "id": "dc5704f0",
   "metadata": {},
   "outputs": [],
   "source": [
    "time.sleep(30)"
   ]
  },
  {
   "cell_type": "code",
   "execution_count": null,
   "id": "6b3ce296",
   "metadata": {},
   "outputs": [],
   "source": [
    "os.system('git add .; git commit -m \"fc\"; git push origin')"
   ]
  },
  {
   "cell_type": "code",
   "execution_count": null,
   "id": "2d01b535",
   "metadata": {},
   "outputs": [],
   "source": [
    "def initialize(i):\n",
    "    command = 'gcloud compute ssh --zone \"'+regions[i]+'\" \"flwr-'+f\"{i:03}\"+'\" --project \"ucr-ursa-major-lesani-lab\" --command \"sudo apt -y install git; git clone https://github.com/tejas-shivanand-mane/flower.git;cd flower\"'\n",
    "    os.system(command)"
   ]
  },
  {
   "cell_type": "code",
   "execution_count": null,
   "id": "a41688a5",
   "metadata": {},
   "outputs": [],
   "source": [
    "def git_pull(i):\n",
    "    command = 'gcloud compute ssh --zone \"'+regions[i]+'\" \"flwr-'+f\"{i:03}\"+'\" --project \"ucr-ursa-major-lesani-lab\" --command \"cd flower; git pull;\"'\n",
    "    os.system(command)"
   ]
  },
  {
   "cell_type": "code",
   "execution_count": null,
   "id": "bfe60e00",
   "metadata": {},
   "outputs": [],
   "source": [
    "def setup(i):\n",
    "    command = 'gcloud compute ssh --zone \"'+regions[i]+'\" \"flwr-'+f\"{i:03}\"+'\" --project \"ucr-ursa-major-lesani-lab\" --command \"cd flower; sudo sh setup.sh\"'\n",
    "    os.system(command)"
   ]
  },
  {
   "cell_type": "code",
   "execution_count": null,
   "id": "4f271f36",
   "metadata": {},
   "outputs": [],
   "source": [
    "def clean(i):\n",
    "    command = 'gcloud compute ssh --zone \"us-central1-a\" \"flwr-'+f\"{i:03}\"+'\" --project \"ucr-ursa-major-lesani-lab\" --command \"sudo rm -r flower\"'\n",
    "    os.system(command)"
   ]
  },
  {
   "cell_type": "code",
   "execution_count": null,
   "id": "4fdcbc32",
   "metadata": {},
   "outputs": [],
   "source": [
    "# time.sleep(45)"
   ]
  },
  {
   "cell_type": "code",
   "execution_count": null,
   "id": "dc7b4741",
   "metadata": {
    "scrolled": true
   },
   "outputs": [],
   "source": [
    "results = Parallel(n_jobs=60)(delayed(initialize)(i) for i in range(len(regions)))"
   ]
  },
  {
   "cell_type": "code",
   "execution_count": null,
   "id": "97ca52ea",
   "metadata": {
    "scrolled": true
   },
   "outputs": [],
   "source": [
    "# os.system('git add .; git commit -m \"fc\"; git push origin')\n",
    "# results = Parallel(n_jobs=60)(delayed(git_pull)(i) for i in range(len(regions)))"
   ]
  },
  {
   "cell_type": "code",
   "execution_count": null,
   "id": "110f6955",
   "metadata": {},
   "outputs": [],
   "source": [
    "results = Parallel(n_jobs=60)(delayed(setup)(i) for i in range(len(regions)))"
   ]
  },
  {
   "cell_type": "code",
   "execution_count": null,
   "id": "11e90d9d",
   "metadata": {},
   "outputs": [],
   "source": [
    "# results = Parallel(n_jobs=60)(delayed(clean)(i) for i in range(3))"
   ]
  },
  {
   "cell_type": "code",
   "execution_count": null,
   "id": "234c3366",
   "metadata": {},
   "outputs": [],
   "source": [
    "\n",
    "def run_server(i):\n",
    "    command = 'gcloud compute ssh --zone \"'+regions[i]+'\" \"flwr-'+f\"{i:03}\"+\\\n",
    "    '\" --project \"ucr-ursa-major-lesani-lab\" --command \"cd flower/examples/pytorch-from-centralized-to-federated/; sh server_job.sh\"'\n",
    "    os.system(command)\n",
    "\n",
    "def run_client(i):\n",
    "    if i!=0:\n",
    "        command = 'gcloud compute ssh --zone \"'+regions[i]+'\" \"flwr-'+f\"{i:03}\"+\\\n",
    "        '\" --project \"ucr-ursa-major-lesani-lab\" --command \"cd flower/examples/pytorch-from-centralized-to-federated/; sh client_job.sh '+str(i-1)+'\"'\n",
    "        os.system(command)\n",
    "    \n",
    "    \n",
    "def kill_all(i):\n",
    "    command = 'gcloud compute ssh --zone \"'+regions[i]+'\" \"flwr-'+f\"{i:03}\"+\\\n",
    "    '\" --project \"ucr-ursa-major-lesani-lab\" --command \"sudo killall python\"'\n",
    "    os.system(command)"
   ]
  },
  {
   "cell_type": "code",
   "execution_count": null,
   "id": "c4f1e046",
   "metadata": {},
   "outputs": [],
   "source": [
    "results = Parallel(n_jobs=60)(delayed(kill_all)(i) for i in range(len(regions)))"
   ]
  },
  {
   "cell_type": "code",
   "execution_count": null,
   "id": "b2127054",
   "metadata": {},
   "outputs": [],
   "source": [
    "run_server(0)"
   ]
  },
  {
   "cell_type": "code",
   "execution_count": null,
   "id": "1afc4fc5",
   "metadata": {},
   "outputs": [],
   "source": [
    "results = Parallel(n_jobs=60)(delayed(run_client)(i) for i in range(len(regions)))"
   ]
  },
  {
   "cell_type": "code",
   "execution_count": null,
   "id": "aace8d7c",
   "metadata": {},
   "outputs": [],
   "source": [
    "time.sleep(120)"
   ]
  },
  {
   "cell_type": "code",
   "execution_count": null,
   "id": "182bde99",
   "metadata": {},
   "outputs": [],
   "source": [
    "for i in range(len(regions)):\n",
    "    command = 'gcloud compute scp --zone \"'+regions[i] +'\"'+' flwr-'+f\"{i:03}\"+\\\n",
    "    ':/home/tejas/flower/examples/pytorch-from-centralized-to-federated/nohup.out ../flwr_exps/out_'+str(i)+'.txt'\n",
    "    os.system(command)"
   ]
  },
  {
   "cell_type": "code",
   "execution_count": null,
   "id": "4d52978c",
   "metadata": {},
   "outputs": [],
   "source": [
    "file_path = '../flwr_exps/6node/out_1.txt'\n",
    "\n",
    "# Read the file and filter lines containing \"test printout\"\n",
    "with open(file_path, 'r') as file:\n",
    "    lines_with_test_printout = [line.strip() for line in file if \"test printout\" in line]\n",
    "\n",
    "# Output the filtered lines\n",
    "print(lines_with_test_printout)\n",
    "\n",
    "import re\n",
    "\n",
    "\n",
    "# Regex pattern to extract accuracy and time\n",
    "pattern = r\"accuracy: ([\\d.]+), time: ([\\d.]+)\"\n",
    "\n",
    "# Extract accuracy and time using regex\n",
    "results = []\n",
    "for line in lines_with_test_printout:\n",
    "    match = re.search(pattern, line)\n",
    "    if match:\n",
    "        accuracy = float(match.group(1))\n",
    "        time_taken = float(match.group(2))\n",
    "        results.append((accuracy, time_taken))\n",
    "\n",
    "# Output the extracted values\n",
    "print(results)\n",
    "\n",
    "results_local = np.array(results)"
   ]
  },
  {
   "cell_type": "code",
   "execution_count": null,
   "id": "ca51e7c7",
   "metadata": {},
   "outputs": [],
   "source": [
    "cli5_results = copy.deepcopy(results_local)\n",
    "# cli9_results = copy.deepcopy(results_local)"
   ]
  },
  {
   "cell_type": "code",
   "execution_count": null,
   "id": "38891106",
   "metadata": {},
   "outputs": [],
   "source": [
    "pl.figure(figsize = (6,4))\n",
    "pl.plot(np.array(list(cli5_results[:,1])), np.array(list(cli5_results[:,0])), '-*', label = '5 clients')\n",
    "pl.plot(np.array(list(cli9_results[:,1])), np.array(list(cli9_results[:,0])), '-*', label = '9 clients')\n",
    "\n",
    "pl.legend()\n",
    "pl.ylabel('Training accuracy')\n",
    "\n",
    "pl.xlabel('time (sec)')\n",
    "pl.show()\n",
    "pl.clf()"
   ]
  },
  {
   "cell_type": "code",
   "execution_count": null,
   "id": "95db3655",
   "metadata": {},
   "outputs": [],
   "source": [
    "# pl.figure(figsize = (6,4))\n",
    "# pl.plot(np.array(list(results_local[:,1])), np.array(list(results_local[:,0])), '-*', label = 'local 1')\n",
    "# pl.plot(np.array(list(results_local1[:,1])), np.array(list(results_local1[:,0])), '-*', label = 'local 2')\n",
    "\n",
    "# pl.plot(np.array(list(results_geo[:,1])), np.array(list(results_geo[:,0])), '-*', label = 'geo')\n",
    "# pl.legend()\n",
    "# pl.ylabel('Training accuracy')\n",
    "\n",
    "# pl.xlabel('time (sec)')\n",
    "# pl.show()\n",
    "# pl.clf()"
   ]
  },
  {
   "cell_type": "code",
   "execution_count": null,
   "id": "80590680",
   "metadata": {},
   "outputs": [],
   "source": []
  }
 ],
 "metadata": {
  "kernelspec": {
   "display_name": "Python 3 (ipykernel)",
   "language": "python",
   "name": "python3"
  },
  "language_info": {
   "codemirror_mode": {
    "name": "ipython",
    "version": 3
   },
   "file_extension": ".py",
   "mimetype": "text/x-python",
   "name": "python",
   "nbconvert_exporter": "python",
   "pygments_lexer": "ipython3",
   "version": "3.11.5"
  }
 },
 "nbformat": 4,
 "nbformat_minor": 5
}
