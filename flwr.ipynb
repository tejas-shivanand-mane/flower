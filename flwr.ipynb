{
 "cells": [
  {
   "cell_type": "code",
   "execution_count": 1,
   "id": "294bbf2f",
   "metadata": {},
   "outputs": [],
   "source": [
    "import os\n",
    "from joblib import Parallel, delayed\n",
    "import time\n",
    "import numpy as np\n",
    "import pickle\n",
    "import pylab as pl\n",
    "import pandas as pd\n",
    "\n",
    "# import jupyternotify\n",
    "import subprocess\n",
    "import concurrent.futures\n",
    "import shutil"
   ]
  },
  {
   "cell_type": "code",
   "execution_count": 73,
   "id": "c380cbec",
   "metadata": {},
   "outputs": [],
   "source": [
    "regions = ['us-central1-a', 'europe-west3-c', 'asia-south1-c']"
   ]
  },
  {
   "cell_type": "code",
   "execution_count": 88,
   "id": "51d21c78",
   "metadata": {},
   "outputs": [
    {
     "name": "stderr",
     "output_type": "stream",
     "text": [
      "Created [https://www.googleapis.com/compute/v1/projects/ucr-ursa-major-lesani-lab/zones/us-central1-a/instances/flwr-000].\n",
      "WARNING: Some requests generated warnings:\n",
      " - Disk size: '30 GB' is larger than image size: '10 GB'. You might need to resize the root repartition manually if the operating system does not support automatic resizing. See https://cloud.google.com/compute/docs/disks/add-persistent-disk#resize_pd for details.\n",
      "\n"
     ]
    },
    {
     "name": "stdout",
     "output_type": "stream",
     "text": [
      "NAME      ZONE           MACHINE_TYPE  PREEMPTIBLE  INTERNAL_IP    EXTERNAL_IP    STATUS\n",
      "flwr-000  us-central1-a  e2-medium                  10.128.15.215  34.69.145.143  RUNNING\n"
     ]
    },
    {
     "name": "stderr",
     "output_type": "stream",
     "text": [
      "Created [https://www.googleapis.com/compute/v1/projects/ucr-ursa-major-lesani-lab/zones/europe-west3-c/instances/flwr-001].\n",
      "WARNING: Some requests generated warnings:\n",
      " - Disk size: '30 GB' is larger than image size: '10 GB'. You might need to resize the root repartition manually if the operating system does not support automatic resizing. See https://cloud.google.com/compute/docs/disks/add-persistent-disk#resize_pd for details.\n",
      "\n"
     ]
    },
    {
     "name": "stdout",
     "output_type": "stream",
     "text": [
      "NAME      ZONE            MACHINE_TYPE  PREEMPTIBLE  INTERNAL_IP  EXTERNAL_IP    STATUS\n",
      "flwr-001  europe-west3-c  e2-medium                  10.156.0.30  34.159.31.246  RUNNING\n"
     ]
    },
    {
     "name": "stderr",
     "output_type": "stream",
     "text": [
      "Created [https://www.googleapis.com/compute/v1/projects/ucr-ursa-major-lesani-lab/zones/asia-south1-c/instances/flwr-002].\n",
      "WARNING: Some requests generated warnings:\n",
      " - Disk size: '30 GB' is larger than image size: '10 GB'. You might need to resize the root repartition manually if the operating system does not support automatic resizing. See https://cloud.google.com/compute/docs/disks/add-persistent-disk#resize_pd for details.\n",
      "\n"
     ]
    },
    {
     "name": "stdout",
     "output_type": "stream",
     "text": [
      "NAME      ZONE           MACHINE_TYPE  PREEMPTIBLE  INTERNAL_IP  EXTERNAL_IP    STATUS\n",
      "flwr-002  asia-south1-c  e2-medium                  10.160.0.61  34.100.188.48  RUNNING\n"
     ]
    }
   ],
   "source": [
    "for i in [0,1,2]:\n",
    "    \n",
    "\n",
    "    cmd = 'gcloud compute instances create flwr-'+f\"{i:03}\"+' \\\n",
    "    --project=ucr-ursa-major-lesani-lab \\\n",
    "    --zone='+regions[i]+' \\\n",
    "    --machine-type=e2-medium \\\n",
    "    --network-interface=network-tier=PREMIUM,stack-type=IPV4_ONLY,subnet=default \\\n",
    "    --maintenance-policy=MIGRATE \\\n",
    "    --provisioning-model=STANDARD \\\n",
    "    --service-account=961693926925-compute@developer.gserviceaccount.com \\\n",
    "    --scopes=https://www.googleapis.com/auth/devstorage.read_only,https://www.googleapis.com/auth/logging.write,https://www.googleapis.com/auth/monitoring.write,https://www.googleapis.com/auth/service.management.readonly,https://www.googleapis.com/auth/servicecontrol,https://www.googleapis.com/auth/trace.append \\\n",
    "    --create-disk=auto-delete=yes,boot=yes,device-name=instance-20240829-120659,image=projects/debian-cloud/global/images/debian-12-bookworm-v20240815,mode=rw,size=30,type=pd-balanced \\\n",
    "    --no-shielded-secure-boot \\\n",
    "    --shielded-vtpm \\\n",
    "    --shielded-integrity-monitoring \\\n",
    "    --labels=goog-ec-src=vm_add-gcloud \\\n",
    "    --reservation-affinity=any'\n",
    "    \n",
    "    os.system(cmd)"
   ]
  },
  {
   "cell_type": "code",
   "execution_count": 75,
   "id": "6b3ce296",
   "metadata": {},
   "outputs": [
    {
     "name": "stdout",
     "output_type": "stream",
     "text": [
      "[main f4232a1f] fc\n",
      " 4 files changed, 42155 insertions(+), 63496 deletions(-)\n"
     ]
    },
    {
     "name": "stderr",
     "output_type": "stream",
     "text": [
      "To github.com:tejas-shivanand-mane/flower.git\n",
      "   bc4dd192..f4232a1f  main -> main\n"
     ]
    },
    {
     "data": {
      "text/plain": [
       "0"
      ]
     },
     "execution_count": 75,
     "metadata": {},
     "output_type": "execute_result"
    }
   ],
   "source": [
    "os.system('git add .; git commit -m \"fc\"; git push origin')"
   ]
  },
  {
   "cell_type": "code",
   "execution_count": 16,
   "id": "2d01b535",
   "metadata": {},
   "outputs": [],
   "source": [
    "def initialize(i):\n",
    "    command = 'gcloud compute ssh --zone \"'+regions[i]+'\" \"flwr-'+f\"{i:03}\"+'\" --project \"ucr-ursa-major-lesani-lab\" --command \"sudo apt -y install git; git clone https://github.com/tejas-shivanand-mane/flower.git;cd flower\"'\n",
    "    os.system(command)"
   ]
  },
  {
   "cell_type": "code",
   "execution_count": 17,
   "id": "a41688a5",
   "metadata": {},
   "outputs": [],
   "source": [
    "def git_pull(i):\n",
    "    command = 'gcloud compute ssh --zone \"'+regions[i]+'\" \"flwr-'+f\"{i:03}\"+'\" --project \"ucr-ursa-major-lesani-lab\" --command \"cd flower; git pull;\"'\n",
    "    os.system(command)"
   ]
  },
  {
   "cell_type": "code",
   "execution_count": 18,
   "id": "bfe60e00",
   "metadata": {},
   "outputs": [],
   "source": [
    "def setup(i):\n",
    "    command = 'gcloud compute ssh --zone \"'+regions[i]+'\" \"flwr-'+f\"{i:03}\"+'\" --project \"ucr-ursa-major-lesani-lab\" --command \"cd flower; sudo sh setup.sh\"'\n",
    "    os.system(command)"
   ]
  },
  {
   "cell_type": "code",
   "execution_count": 19,
   "id": "4f271f36",
   "metadata": {},
   "outputs": [],
   "source": [
    "def clean(i):\n",
    "    command = 'gcloud compute ssh --zone \"us-central1-a\" \"flwr-'+f\"{i:03}\"+'\" --project \"ucr-ursa-major-lesani-lab\" --command \"sudo rm -r flower\"'\n",
    "    os.system(command)"
   ]
  },
  {
   "cell_type": "code",
   "execution_count": 13,
   "id": "4fdcbc32",
   "metadata": {},
   "outputs": [],
   "source": [
    "time.sleep(45)"
   ]
  },
  {
   "cell_type": "code",
   "execution_count": 89,
   "id": "dc7b4741",
   "metadata": {
    "scrolled": true
   },
   "outputs": [
    {
     "name": "stderr",
     "output_type": "stream",
     "text": [
      "\n",
      "WARNING: apt does not have a stable CLI interface. Use with caution in scripts.\n",
      "\n"
     ]
    },
    {
     "name": "stdout",
     "output_type": "stream",
     "text": [
      "Reading package lists...\n",
      "Building dependency tree...\n",
      "Reading state information...\n",
      "The following additional packages will be installed:\n",
      "  git-man liberror-perl patch\n",
      "Suggested packages:\n",
      "  git-daemon-run | git-daemon-sysvinit git-doc git-email git-gui gitk gitweb\n",
      "  git-cvs git-mediawiki git-svn ed diffutils-doc\n",
      "The following NEW packages will be installed:\n",
      "  git git-man liberror-perl patch\n",
      "0 upgraded, 4 newly installed, 0 to remove and 0 not upgraded.\n",
      "Need to get 9377 kB of archives.\n",
      "After this operation, 48.0 MB of additional disk space will be used.\n",
      "Get:1 file:/etc/apt/mirrors/debian.list Mirrorlist [30 B]\n",
      "Get:2 https://deb.debian.org/debian bookworm/main amd64 liberror-perl all 0.17029-2 [29.0 kB]\n",
      "Get:3 https://deb.debian.org/debian bookworm/main amd64 git-man all 1:2.39.2-1.1 [2049 kB]\n",
      "Get:4 https://deb.debian.org/debian bookworm/main amd64 git amd64 1:2.39.2-1.1 [7171 kB]\n",
      "Reading package lists..."
     ]
    },
    {
     "name": "stderr",
     "output_type": "stream",
     "text": [
      "\n",
      "WARNING: apt does not have a stable CLI interface. Use with caution in scripts.\n",
      "\n"
     ]
    },
    {
     "name": "stdout",
     "output_type": "stream",
     "text": [
      "Get:5 https://deb.debian.org/debian bookworm/main amd64 patch amd64 2.7.6-7 [128 kB]\n"
     ]
    },
    {
     "name": "stderr",
     "output_type": "stream",
     "text": [
      "debconf: unable to initialize frontend: Dialog\n",
      "debconf: (Dialog frontend will not work on a dumb terminal, an emacs shell buffer, or without a controlling terminal.)\n",
      "debconf: falling back to frontend: Readline\n",
      "debconf: unable to initialize frontend: Readline\n",
      "debconf: (This frontend requires a controlling tty.)\n",
      "debconf: falling back to frontend: Teletype\n",
      "dpkg-preconfigure: unable to re-open stdin: \n",
      "\n",
      "WARNING: apt does not have a stable CLI interface. Use with caution in scripts.\n",
      "\n"
     ]
    },
    {
     "name": "stdout",
     "output_type": "stream",
     "text": [
      "Fetched 9377 kB in 1s (12.3 MB/s)\n",
      "Reading package lists...Selecting previously unselected package liberror-perl.\n",
      "(Reading database ... 69231 files and directories currently installed.)\n",
      "Preparing to unpack .../liberror-perl_0.17029-2_all.deb ...\n",
      "Unpacking liberror-perl (0.17029-2) ...\n",
      "\n",
      "Selecting previously unselected package git-man.\n",
      "Preparing to unpack .../git-man_1%3a2.39.2-1.1_all.deb ...\n",
      "Unpacking git-man (1:2.39.2-1.1) ...\n",
      "Building dependency tree...Selecting previously unselected package git.\n",
      "Preparing to unpack .../git_1%3a2.39.2-1.1_amd64.deb ...\n",
      "\n",
      "Reading state information...\n",
      "Unpacking git (1:2.39.2-1.1) ...\n",
      "The following additional packages will be installed:\n",
      "  git-man liberror-perl patch\n",
      "Suggested packages:\n",
      "  git-daemon-run | git-daemon-sysvinit git-doc git-email git-gui gitk gitweb\n",
      "  git-cvs git-mediawiki git-svn ed diffutils-doc\n",
      "The following NEW packages will be installed:\n",
      "  git git-man liberror-perl patch\n",
      "\n",
      "0 upgraded, 4 newly installed, 0 to remove and 0 not upgraded.\n",
      "Need to get 9377 kB of archives.\n",
      "After this operation, 48.0 MB of additional disk space will be used.\n",
      "Get:1 file:/etc/apt/mirrors/debian.list Mirrorlist [30 B]\n",
      "Building dependency tree...Get:2 https://deb.debian.org/debian bookworm/main amd64 liberror-perl all 0.17029-2 [29.0 kB]\n",
      "Get:3 https://deb.debian.org/debian bookworm/main amd64 git-man all 1:2.39.2-1.1 [2049 kB]\n",
      "Get:4 https://deb.debian.org/debian bookworm/main amd64 git amd64 1:2.39.2-1.1 [7171 kB]\n",
      "\n",
      "Reading state information...\n",
      "Get:5 https://deb.debian.org/debian bookworm/main amd64 patch amd64 2.7.6-7 [128 kB]\n",
      "The following additional packages will be installed:\n",
      "  git-man liberror-perl patch\n",
      "Suggested packages:\n",
      "  git-daemon-run | git-daemon-sysvinit git-doc git-email git-gui gitk gitweb\n",
      "  git-cvs git-mediawiki git-svn ed diffutils-doc\n",
      "The following NEW packages will be installed:\n",
      "  git git-man liberror-perl patch\n",
      "0 upgraded, 4 newly installed, 0 to remove and 0 not upgraded.\n",
      "Need to get 9377 kB of archives.\n",
      "After this operation, 48.0 MB of additional disk space will be used.\n",
      "Get:1 file:/etc/apt/mirrors/debian.list Mirrorlist [30 B]\n",
      "Get:2 https://deb.debian.org/debian bookworm/main amd64 liberror-perl all 0.17029-2 [29.0 kB]\n",
      "Get:3 https://deb.debian.org/debian bookworm/main amd64 git-man all 1:2.39.2-1.1 [2049 kB]\n",
      "Selecting previously unselected package patch.\n",
      "Preparing to unpack .../patch_2.7.6-7_amd64.deb ...\n",
      "Unpacking patch (2.7.6-7) ...\n",
      "Get:4 https://deb.debian.org/debian bookworm/main amd64 git amd64 1:2.39.2-1.1 [7171 kB]\n",
      "Setting up liberror-perl (0.17029-2) ...\n",
      "Setting up patch (2.7.6-7) ...\n",
      "Get:5 https://deb.debian.org/debian bookworm/main amd64 patch amd64 2.7.6-7 [128 kB]\n",
      "Setting up git-man (1:2.39.2-1.1) ...\n",
      "Setting up git (1:2.39.2-1.1) ...\n"
     ]
    },
    {
     "name": "stderr",
     "output_type": "stream",
     "text": [
      "debconf: unable to initialize frontend: Dialog\n",
      "debconf: (Dialog frontend will not work on a dumb terminal, an emacs shell buffer, or without a controlling terminal.)\n",
      "debconf: falling back to frontend: Readline\n",
      "debconf: unable to initialize frontend: Readline\n",
      "debconf: (This frontend requires a controlling tty.)\n",
      "debconf: falling back to frontend: Teletype\n",
      "dpkg-preconfigure: unable to re-open stdin: \n"
     ]
    },
    {
     "name": "stdout",
     "output_type": "stream",
     "text": [
      "Processing triggers for man-db (2.11.2-2) ...\n",
      "Fetched 9377 kB in 0s (33.2 MB/s)\n",
      "Selecting previously unselected package liberror-perl.\n",
      "(Reading database ... 69231 files and directories currently installed.)\n",
      "Preparing to unpack .../liberror-perl_0.17029-2_all.deb ...\n",
      "Unpacking liberror-perl (0.17029-2) ...\n",
      "Fetched 9377 kB in 0s (24.9 MB/s)\n",
      "Selecting previously unselected package git-man.\n"
     ]
    },
    {
     "name": "stderr",
     "output_type": "stream",
     "text": [
      "debconf: unable to initialize frontend: Dialog\n",
      "debconf: (Dialog frontend will not work on a dumb terminal, an emacs shell buffer, or without a controlling terminal.)\n",
      "debconf: falling back to frontend: Readline\n",
      "debconf: unable to initialize frontend: Readline\n",
      "debconf: (This frontend requires a controlling tty.)\n",
      "debconf: falling back to frontend: Teletype\n",
      "dpkg-preconfigure: unable to re-open stdin: \n"
     ]
    },
    {
     "name": "stdout",
     "output_type": "stream",
     "text": [
      "Preparing to unpack .../git-man_1%3a2.39.2-1.1_all.deb ...\n",
      "Unpacking git-man (1:2.39.2-1.1) ...\n",
      "Selecting previously unselected package liberror-perl.\n",
      "(Reading database ... 69231 files and directories currently installed.)\n",
      "Preparing to unpack .../liberror-perl_0.17029-2_all.deb ...\n",
      "Unpacking liberror-perl (0.17029-2) ...\n",
      "Selecting previously unselected package git-man.\n",
      "Preparing to unpack .../git-man_1%3a2.39.2-1.1_all.deb ...\n",
      "Unpacking git-man (1:2.39.2-1.1) ...\n",
      "Selecting previously unselected package git.\n",
      "Preparing to unpack .../git_1%3a2.39.2-1.1_amd64.deb ...\n",
      "Unpacking git (1:2.39.2-1.1) ...\n",
      "Selecting previously unselected package git.\n",
      "Preparing to unpack .../git_1%3a2.39.2-1.1_amd64.deb ...\n",
      "Unpacking git (1:2.39.2-1.1) ...\n",
      "Selecting previously unselected package patch.\n",
      "Preparing to unpack .../patch_2.7.6-7_amd64.deb ...\n",
      "Unpacking patch (2.7.6-7) ...\n",
      "Setting up liberror-perl (0.17029-2) ...\n",
      "Setting up patch (2.7.6-7) ...\n",
      "Setting up git-man (1:2.39.2-1.1) ...\n",
      "Setting up git (1:2.39.2-1.1) ...\n",
      "Processing triggers for man-db (2.11.2-2) ...\n",
      "Selecting previously unselected package patch.\n",
      "Preparing to unpack .../patch_2.7.6-7_amd64.deb ...\n",
      "Unpacking patch (2.7.6-7) ...\n",
      "Setting up liberror-perl (0.17029-2) ...\n",
      "Setting up patch (2.7.6-7) ...\n",
      "Setting up git-man (1:2.39.2-1.1) ...\n",
      "Setting up git (1:2.39.2-1.1) ...\n",
      "Processing triggers for man-db (2.11.2-2) ...\n"
     ]
    },
    {
     "name": "stderr",
     "output_type": "stream",
     "text": [
      "Cloning into 'flower'...\n",
      "Cloning into 'flower'...\n",
      "Cloning into 'flower'...\n"
     ]
    }
   ],
   "source": [
    "results = Parallel(n_jobs=60)(delayed(initialize)(i) for i in range(3))"
   ]
  },
  {
   "cell_type": "code",
   "execution_count": 113,
   "id": "97ca52ea",
   "metadata": {
    "scrolled": true
   },
   "outputs": [
    {
     "name": "stdout",
     "output_type": "stream",
     "text": [
      "[main 2c829beb] fc\n",
      " 4 files changed, 1192 insertions(+), 65633 deletions(-)\n",
      " rewrite cli0_geo.out (95%)\n",
      " rewrite flwr.ipynb (99%)\n"
     ]
    },
    {
     "name": "stderr",
     "output_type": "stream",
     "text": [
      "To github.com:tejas-shivanand-mane/flower.git\n",
      "   299c724b..2c829beb  main -> main\n",
      "From https://github.com/tejas-shivanand-mane/flower\n",
      "   299c724b..2c829beb  main       -> origin/main\n"
     ]
    },
    {
     "name": "stdout",
     "output_type": "stream",
     "text": [
      "Updating 299c724b..2c829beb\n",
      "Fast-forward\n",
      " cli0_geo.out                                       |   693 +-\n",
      " .../client.py                                      |     4 +-\n",
      " .../server.py                                      |     4 +-\n",
      " flwr.ipynb                                         | 64532 +------------------\n",
      " 4 files changed, 396 insertions(+), 64837 deletions(-)\n"
     ]
    },
    {
     "name": "stderr",
     "output_type": "stream",
     "text": [
      "From https://github.com/tejas-shivanand-mane/flower\n",
      "   299c724b..2c829beb  main       -> origin/main\n"
     ]
    },
    {
     "name": "stdout",
     "output_type": "stream",
     "text": [
      "Updating 299c724b..2c829beb\n",
      "Fast-forward\n",
      " cli0_geo.out                                       |   693 +-\n",
      " .../client.py                                      |     4 +-\n",
      " .../server.py                                      |     4 +-\n",
      " flwr.ipynb                                         | 64532 +------------------\n",
      " 4 files changed, 396 insertions(+), 64837 deletions(-)\n"
     ]
    },
    {
     "name": "stderr",
     "output_type": "stream",
     "text": [
      "From https://github.com/tejas-shivanand-mane/flower\n",
      "   299c724b..2c829beb  main       -> origin/main\n"
     ]
    },
    {
     "name": "stdout",
     "output_type": "stream",
     "text": [
      "Updating 299c724b..2c829beb\n",
      "Fast-forward\n",
      " cli0_geo.out                                       |   693 +-\n",
      " .../client.py                                      |     4 +-\n",
      " .../server.py                                      |     4 +-\n",
      " flwr.ipynb                                         | 64532 +------------------\n",
      " 4 files changed, 396 insertions(+), 64837 deletions(-)\n"
     ]
    }
   ],
   "source": [
    "os.system('git add .; git commit -m \"fc\"; git push origin')\n",
    "results = Parallel(n_jobs=60)(delayed(git_pull)(i) for i in range(3))"
   ]
  },
  {
   "cell_type": "code",
   "execution_count": 106,
   "id": "110f6955",
   "metadata": {},
   "outputs": [],
   "source": [
    "# results = Parallel(n_jobs=60)(delayed(setup)(i) for i in range(3))"
   ]
  },
  {
   "cell_type": "code",
   "execution_count": 79,
   "id": "11e90d9d",
   "metadata": {},
   "outputs": [],
   "source": [
    "# results = Parallel(n_jobs=60)(delayed(clean)(i) for i in range(3))"
   ]
  },
  {
   "cell_type": "code",
   "execution_count": 39,
   "id": "2aeff2bd",
   "metadata": {},
   "outputs": [],
   "source": [
    "\n",
    "def update_path(i):\n",
    "    command = 'gcloud compute ssh --zone \"'+regions[i]+'\" \"flwr-'+f\"{i:03}\"+\\\n",
    "    '\" --project \"ucr-ursa-major-lesani-lab\" --command \"printf export\\ PATH=\\$PATH:/home/user/anaconda3/bin/ >> /home/tejas/.bashrc && source /home/tejas/.bashrc\"'\n",
    "    os.system(command)"
   ]
  },
  {
   "cell_type": "code",
   "execution_count": 40,
   "id": "86077fa8",
   "metadata": {},
   "outputs": [],
   "source": [
    "results = Parallel(n_jobs=60)(delayed(update_path)(i) for i in range(3))"
   ]
  },
  {
   "cell_type": "code",
   "execution_count": 29,
   "id": "234c3366",
   "metadata": {},
   "outputs": [],
   "source": [
    "\n",
    "def run_server(i):\n",
    "    command = 'gcloud compute ssh --zone \"'+regions[i]+'\" \"flwr-'+f\"{i:03}\"+\\\n",
    "    '\" --project \"ucr-ursa-major-lesani-lab\" --command \"cd flower/examples/pytorch-from-centralized-to-federated/; sudo nohup python server.py > nohup.out 2>&1 &\"'\n",
    "    os.system(command)\n",
    "\n",
    "def run_client(i):\n",
    "    command = 'gcloud compute ssh --zone \"'+regions[i]+'\" \"flwr-'+f\"{i:03}\"+\\\n",
    "    '\" --project \"ucr-ursa-major-lesani-lab\" --command \"cd flower/examples/pytorch-from-centralized-to-federated/; sudo nohup python client.py --partition-id '+str(i-1)+' > nohup.out 2>&1 &\"'\n",
    "    os.system(command)\n",
    "    \n",
    "    \n",
    "def kill_all(i):\n",
    "    command = 'gcloud compute ssh --zone \"'+regions[i]+'\" \"flwr-'+f\"{i:03}\"+\\\n",
    "    '\" --project \"ucr-ursa-major-lesani-lab\" --command \"cd flower/examples/pytorch-from-centralized-to-federated/;sudo killall python\"'\n",
    "    os.system(command)"
   ]
  },
  {
   "cell_type": "code",
   "execution_count": 31,
   "id": "f7ccd6a8",
   "metadata": {},
   "outputs": [],
   "source": [
    "run_server(0)"
   ]
  },
  {
   "cell_type": "code",
   "execution_count": 25,
   "id": "7e45df0c",
   "metadata": {},
   "outputs": [],
   "source": [
    "run_client(1)\n",
    "run_client(0)\n"
   ]
  },
  {
   "cell_type": "code",
   "execution_count": 27,
   "id": "51b3f89e",
   "metadata": {},
   "outputs": [],
   "source": []
  },
  {
   "cell_type": "code",
   "execution_count": null,
   "id": "40ec517b",
   "metadata": {},
   "outputs": [],
   "source": [
    "results = Parallel(n_jobs=60)(delayed(kill_all)(i) for i in range(3))"
   ]
  },
  {
   "cell_type": "code",
   "execution_count": null,
   "id": "0bfd374c",
   "metadata": {},
   "outputs": [],
   "source": []
  },
  {
   "cell_type": "code",
   "execution_count": null,
   "id": "e7efdca5",
   "metadata": {},
   "outputs": [],
   "source": []
  },
  {
   "cell_type": "code",
   "execution_count": null,
   "id": "e4b51545",
   "metadata": {},
   "outputs": [],
   "source": [
    "for i in [1]:\n",
    "    command = 'gcloud compute scp --zone \"'+regions[i] +'\"'+' flwr-'+f\"{i:03}\"+':/home/tejas/flower/examples/nohup.out cli0_geo.out'\n",
    "    os.system(command)"
   ]
  },
  {
   "cell_type": "code",
   "execution_count": 97,
   "id": "4d52978c",
   "metadata": {},
   "outputs": [
    {
     "name": "stdout",
     "output_type": "stream",
     "text": [
      "['INFO :      test printout, accuracy: 0.3594, time: 22.4384868144989', 'INFO :      test printout, accuracy: 0.4216, time: 41.3956823348999', 'INFO :      test printout, accuracy: 0.447, time: 61.331974029541016', 'INFO :      test printout, accuracy: 0.4692, time: 77.46779251098633', 'INFO :      test printout, accuracy: 0.4908, time: 93.7823965549469', 'INFO :      test printout, accuracy: 0.4978, time: 110.0973572731018', 'INFO :      test printout, accuracy: 0.5118, time: 126.80119705200195', 'INFO :      test printout, accuracy: 0.5208, time: 143.01470708847046', 'INFO :      test printout, accuracy: 0.5292, time: 159.29779744148254', 'INFO :      test printout, accuracy: 0.537, time: 175.201171875', 'INFO :      test printout, accuracy: 0.543, time: 192.5104637145996', 'INFO :      test printout, accuracy: 0.5482, time: 209.0459005832672', 'INFO :      test printout, accuracy: 0.5552, time: 231.20904684066772', 'INFO :      test printout, accuracy: 0.559, time: 257.51459789276123', 'INFO :      test printout, accuracy: 0.5602, time: 284.05499935150146', 'INFO :      test printout, accuracy: 0.5606, time: 310.32781958580017', 'INFO :      test printout, accuracy: 0.5652, time: 336.66022515296936', 'INFO :      test printout, accuracy: 0.5696, time: 362.71322536468506', 'INFO :      test printout, accuracy: 0.5732, time: 389.4526677131653', 'INFO :      test printout, accuracy: 0.5786, time: 414.7207567691803', 'INFO :      test printout, accuracy: 0.5814, time: 439.5350339412689', 'INFO :      test printout, accuracy: 0.5834, time: 464.3436589241028', 'INFO :      test printout, accuracy: 0.5876, time: 488.8955924510956', 'INFO :      test printout, accuracy: 0.5848, time: 514.4149181842804', 'INFO :      test printout, accuracy: 0.5804, time: 540.2759521007538', 'INFO :      test printout, accuracy: 0.5794, time: 566.2206907272339', 'INFO :      test printout, accuracy: 0.5838, time: 591.5673232078552', 'INFO :      test printout, accuracy: 0.5818, time: 617.4419403076172', 'INFO :      test printout, accuracy: 0.5822, time: 644.8768012523651', 'INFO :      test printout, accuracy: 0.5832, time: 679.8884518146515']\n",
      "[(0.3594, 22.4384868144989), (0.4216, 41.3956823348999), (0.447, 61.331974029541016), (0.4692, 77.46779251098633), (0.4908, 93.7823965549469), (0.4978, 110.0973572731018), (0.5118, 126.80119705200195), (0.5208, 143.01470708847046), (0.5292, 159.29779744148254), (0.537, 175.201171875), (0.543, 192.5104637145996), (0.5482, 209.0459005832672), (0.5552, 231.20904684066772), (0.559, 257.51459789276123), (0.5602, 284.05499935150146), (0.5606, 310.32781958580017), (0.5652, 336.66022515296936), (0.5696, 362.71322536468506), (0.5732, 389.4526677131653), (0.5786, 414.7207567691803), (0.5814, 439.5350339412689), (0.5834, 464.3436589241028), (0.5876, 488.8955924510956), (0.5848, 514.4149181842804), (0.5804, 540.2759521007538), (0.5794, 566.2206907272339), (0.5838, 591.5673232078552), (0.5818, 617.4419403076172), (0.5822, 644.8768012523651), (0.5832, 679.8884518146515)]\n"
     ]
    }
   ],
   "source": [
    "file_path = 'cli_0.out'\n",
    "\n",
    "# Read the file and filter lines containing \"test printout\"\n",
    "with open(file_path, 'r') as file:\n",
    "    lines_with_test_printout = [line.strip() for line in file if \"test printout\" in line]\n",
    "\n",
    "# Output the filtered lines\n",
    "print(lines_with_test_printout)\n",
    "\n",
    "import re\n",
    "\n",
    "\n",
    "# Regex pattern to extract accuracy and time\n",
    "pattern = r\"accuracy: ([\\d.]+), time: ([\\d.]+)\"\n",
    "\n",
    "# Extract accuracy and time using regex\n",
    "results = []\n",
    "for line in lines_with_test_printout:\n",
    "    match = re.search(pattern, line)\n",
    "    if match:\n",
    "        accuracy = float(match.group(1))\n",
    "        time_taken = float(match.group(2))\n",
    "        results.append((accuracy, time_taken))\n",
    "\n",
    "# Output the extracted values\n",
    "print(results)\n",
    "\n",
    "results_local = np.array(results)"
   ]
  },
  {
   "cell_type": "code",
   "execution_count": 107,
   "id": "42c0397c",
   "metadata": {},
   "outputs": [
    {
     "name": "stdout",
     "output_type": "stream",
     "text": [
      "['INFO :      test printout, accuracy: 0.361, time: 28.15250515937805', 'INFO :      test printout, accuracy: 0.419, time: 48.966126441955566', 'INFO :      test printout, accuracy: 0.4546, time: 69.55271244049072', 'INFO :      test printout, accuracy: 0.4734, time: 89.98993444442749', 'INFO :      test printout, accuracy: 0.4818, time: 110.53451442718506', 'INFO :      test printout, accuracy: 0.5082, time: 131.2627308368683', 'INFO :      test printout, accuracy: 0.526, time: 152.10878705978394', 'INFO :      test printout, accuracy: 0.535, time: 175.24832224845886', 'INFO :      test printout, accuracy: 0.5444, time: 198.9635763168335', 'INFO :      test printout, accuracy: 0.551, time: 219.53922414779663', 'INFO :      test printout, accuracy: 0.5578, time: 240.00547242164612', 'INFO :      test printout, accuracy: 0.5672, time: 260.654185295105', 'INFO :      test printout, accuracy: 0.5706, time: 281.066123008728', 'INFO :      test printout, accuracy: 0.5764, time: 301.61035108566284', 'INFO :      test printout, accuracy: 0.5794, time: 322.50097370147705', 'INFO :      test printout, accuracy: 0.5858, time: 343.1716001033783', 'INFO :      test printout, accuracy: 0.5876, time: 363.6638033390045', 'INFO :      test printout, accuracy: 0.5898, time: 384.3473918437958', 'INFO :      test printout, accuracy: 0.5864, time: 405.34361243247986', 'INFO :      test printout, accuracy: 0.5872, time: 425.6656651496887', 'INFO :      test printout, accuracy: 0.5884, time: 446.3001673221588', 'INFO :      test printout, accuracy: 0.5914, time: 467.14535665512085', 'INFO :      test printout, accuracy: 0.599, time: 487.7128493785858', 'INFO :      test printout, accuracy: 0.6088, time: 508.37863063812256', 'INFO :      test printout, accuracy: 0.6104, time: 528.9643898010254', 'INFO :      test printout, accuracy: 0.6128, time: 549.4425976276398', 'INFO :      test printout, accuracy: 0.6138, time: 570.121102809906', 'INFO :      test printout, accuracy: 0.6134, time: 590.7494993209839', 'INFO :      test printout, accuracy: 0.6152, time: 611.2943534851074', 'INFO :      test printout, accuracy: 0.6114, time: 631.9646077156067']\n",
      "[(0.361, 28.15250515937805), (0.419, 48.966126441955566), (0.4546, 69.55271244049072), (0.4734, 89.98993444442749), (0.4818, 110.53451442718506), (0.5082, 131.2627308368683), (0.526, 152.10878705978394), (0.535, 175.24832224845886), (0.5444, 198.9635763168335), (0.551, 219.53922414779663), (0.5578, 240.00547242164612), (0.5672, 260.654185295105), (0.5706, 281.066123008728), (0.5764, 301.61035108566284), (0.5794, 322.50097370147705), (0.5858, 343.1716001033783), (0.5876, 363.6638033390045), (0.5898, 384.3473918437958), (0.5864, 405.34361243247986), (0.5872, 425.6656651496887), (0.5884, 446.3001673221588), (0.5914, 467.14535665512085), (0.599, 487.7128493785858), (0.6088, 508.37863063812256), (0.6104, 528.9643898010254), (0.6128, 549.4425976276398), (0.6138, 570.121102809906), (0.6134, 590.7494993209839), (0.6152, 611.2943534851074), (0.6114, 631.9646077156067)]\n"
     ]
    }
   ],
   "source": [
    "file_path = 'cli0_geo.out'\n",
    "\n",
    "# Read the file and filter lines containing \"test printout\"\n",
    "with open(file_path, 'r') as file:\n",
    "    lines_with_test_printout = [line.strip() for line in file if \"test printout\" in line]\n",
    "\n",
    "# Output the filtered lines\n",
    "print(lines_with_test_printout)\n",
    "\n",
    "import re\n",
    "\n",
    "\n",
    "# Regex pattern to extract accuracy and time\n",
    "pattern = r\"accuracy: ([\\d.]+), time: ([\\d.]+)\"\n",
    "\n",
    "# Extract accuracy and time using regex\n",
    "results = []\n",
    "for line in lines_with_test_printout:\n",
    "    match = re.search(pattern, line)\n",
    "    if match:\n",
    "        accuracy = float(match.group(1))\n",
    "        time_taken = float(match.group(2))\n",
    "        results.append((accuracy, time_taken))\n",
    "\n",
    "# Output the extracted values\n",
    "print(results)\n",
    "\n",
    "results_geo = np.array(results)"
   ]
  },
  {
   "cell_type": "code",
   "execution_count": 110,
   "id": "f1cf0851",
   "metadata": {},
   "outputs": [
    {
     "data": {
      "text/plain": [
       "array([[3.61000000e-01, 2.81525052e+01],\n",
       "       [4.19000000e-01, 4.89661264e+01],\n",
       "       [4.54600000e-01, 6.95527124e+01],\n",
       "       [4.73400000e-01, 8.99899344e+01],\n",
       "       [4.81800000e-01, 1.10534514e+02],\n",
       "       [5.08200000e-01, 1.31262731e+02],\n",
       "       [5.26000000e-01, 1.52108787e+02],\n",
       "       [5.35000000e-01, 1.75248322e+02],\n",
       "       [5.44400000e-01, 1.98963576e+02],\n",
       "       [5.51000000e-01, 2.19539224e+02],\n",
       "       [5.57800000e-01, 2.40005472e+02],\n",
       "       [5.67200000e-01, 2.60654185e+02],\n",
       "       [5.70600000e-01, 2.81066123e+02],\n",
       "       [5.76400000e-01, 3.01610351e+02],\n",
       "       [5.79400000e-01, 3.22500974e+02],\n",
       "       [5.85800000e-01, 3.43171600e+02],\n",
       "       [5.87600000e-01, 3.63663803e+02],\n",
       "       [5.89800000e-01, 3.84347392e+02],\n",
       "       [5.86400000e-01, 4.05343612e+02],\n",
       "       [5.87200000e-01, 4.25665665e+02],\n",
       "       [5.88400000e-01, 4.46300167e+02],\n",
       "       [5.91400000e-01, 4.67145357e+02],\n",
       "       [5.99000000e-01, 4.87712849e+02],\n",
       "       [6.08800000e-01, 5.08378631e+02],\n",
       "       [6.10400000e-01, 5.28964390e+02],\n",
       "       [6.12800000e-01, 5.49442598e+02],\n",
       "       [6.13800000e-01, 5.70121103e+02],\n",
       "       [6.13400000e-01, 5.90749499e+02],\n",
       "       [6.15200000e-01, 6.11294353e+02],\n",
       "       [6.11400000e-01, 6.31964608e+02]])"
      ]
     },
     "execution_count": 110,
     "metadata": {},
     "output_type": "execute_result"
    }
   ],
   "source": []
  },
  {
   "cell_type": "code",
   "execution_count": 112,
   "id": "95db3655",
   "metadata": {},
   "outputs": [
    {
     "data": {
      "image/png": "[encoded data removed]",
      "text/plain": [
       "<Figure size 600x400 with 1 Axes>"
      ]
     },
     "metadata": {},
     "output_type": "display_data"
    },
    {
     "data": {
      "text/plain": [
       "<Figure size 640x480 with 0 Axes>"
      ]
     },
     "metadata": {},
     "output_type": "display_data"
    }
   ],
   "source": [
    "pl.figure(figsize = (6,4))\n",
    "pl.plot(np.array(list(results_local[:,1])), np.array(list(results_local[:,0])), '-*', label = 'local')\n",
    "pl.plot(np.array(list(results_geo[:,1])), np.array(list(results_geo[:,0])), '-*', label = 'geo')\n",
    "pl.legend()\n",
    "pl.ylabel('Training accuracy')\n",
    "\n",
    "pl.xlabel('time (sec)')\n",
    "pl.show()\n",
    "pl.clf()"
   ]
  },
  {
   "cell_type": "code",
   "execution_count": null,
   "id": "80590680",
   "metadata": {},
   "outputs": [],
   "source": []
  }
 ],
 "metadata": {
  "kernelspec": {
   "display_name": "Python 3 (ipykernel)",
   "language": "python",
   "name": "python3"
  },
  "language_info": {
   "codemirror_mode": {
    "name": "ipython",
    "version": 3
   },
   "file_extension": ".py",
   "mimetype": "text/x-python",
   "name": "python",
   "nbconvert_exporter": "python",
   "pygments_lexer": "ipython3",
   "version": "3.11.5"
  }
 },
 "nbformat": 4,
 "nbformat_minor": 5
}
