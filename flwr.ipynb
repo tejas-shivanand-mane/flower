{
 "cells": [
  {
   "cell_type": "code",
   "execution_count": 1,
   "id": "294bbf2f",
   "metadata": {},
   "outputs": [],
   "source": [
    "import os\n",
    "from joblib import Parallel, delayed\n",
    "import time\n",
    "import numpy as np\n",
    "import pickle\n",
    "import pylab as pl\n",
    "import pandas as pd\n",
    "\n",
    "# import jupyternotify\n",
    "import subprocess\n",
    "import concurrent.futures\n",
    "import shutil"
   ]
  },
  {
   "cell_type": "code",
   "execution_count": 73,
   "id": "c380cbec",
   "metadata": {},
   "outputs": [],
   "source": [
    "regions = ['us-central1-a', 'europe-west3-c', 'asia-south1-c']"
   ]
  },
  {
   "cell_type": "code",
   "execution_count": 123,
   "id": "51d21c78",
   "metadata": {},
   "outputs": [
    {
     "name": "stderr",
     "output_type": "stream",
     "text": [
      "Created [https://www.googleapis.com/compute/v1/projects/ucr-ursa-major-lesani-lab/zones/us-central1-a/instances/flwr-000].\n",
      "WARNING: Some requests generated warnings:\n",
      " - Disk size: '30 GB' is larger than image size: '10 GB'. You might need to resize the root repartition manually if the operating system does not support automatic resizing. See https://cloud.google.com/compute/docs/disks/add-persistent-disk#resize_pd for details.\n",
      "\n"
     ]
    },
    {
     "name": "stdout",
     "output_type": "stream",
     "text": [
      "NAME      ZONE           MACHINE_TYPE  PREEMPTIBLE  INTERNAL_IP    EXTERNAL_IP   STATUS\n",
      "flwr-000  us-central1-a  e2-medium                  10.128.15.216  35.238.47.57  RUNNING\n"
     ]
    },
    {
     "name": "stderr",
     "output_type": "stream",
     "text": [
      "Created [https://www.googleapis.com/compute/v1/projects/ucr-ursa-major-lesani-lab/zones/europe-west3-c/instances/flwr-001].\n",
      "WARNING: Some requests generated warnings:\n",
      " - Disk size: '30 GB' is larger than image size: '10 GB'. You might need to resize the root repartition manually if the operating system does not support automatic resizing. See https://cloud.google.com/compute/docs/disks/add-persistent-disk#resize_pd for details.\n",
      "\n"
     ]
    },
    {
     "name": "stdout",
     "output_type": "stream",
     "text": [
      "NAME      ZONE            MACHINE_TYPE  PREEMPTIBLE  INTERNAL_IP  EXTERNAL_IP   STATUS\n",
      "flwr-001  europe-west3-c  e2-medium                  10.156.0.33  35.198.72.77  RUNNING\n"
     ]
    },
    {
     "name": "stderr",
     "output_type": "stream",
     "text": [
      "Created [https://www.googleapis.com/compute/v1/projects/ucr-ursa-major-lesani-lab/zones/asia-south1-c/instances/flwr-002].\n",
      "WARNING: Some requests generated warnings:\n",
      " - Disk size: '30 GB' is larger than image size: '10 GB'. You might need to resize the root repartition manually if the operating system does not support automatic resizing. See https://cloud.google.com/compute/docs/disks/add-persistent-disk#resize_pd for details.\n",
      "\n"
     ]
    },
    {
     "name": "stdout",
     "output_type": "stream",
     "text": [
      "NAME      ZONE           MACHINE_TYPE  PREEMPTIBLE  INTERNAL_IP  EXTERNAL_IP     STATUS\n",
      "flwr-002  asia-south1-c  e2-medium                  10.160.0.65  35.200.186.214  RUNNING\n"
     ]
    }
   ],
   "source": [
    "for i in [0,1,2]:\n",
    "    \n",
    "\n",
    "    cmd = 'gcloud compute instances create flwr-'+f\"{i:03}\"+' \\\n",
    "    --project=ucr-ursa-major-lesani-lab \\\n",
    "    --zone='+regions[i]+' \\\n",
    "    --machine-type=e2-medium \\\n",
    "    --network-interface=network-tier=PREMIUM,stack-type=IPV4_ONLY,subnet=default \\\n",
    "    --maintenance-policy=MIGRATE \\\n",
    "    --provisioning-model=STANDARD \\\n",
    "    --service-account=961693926925-compute@developer.gserviceaccount.com \\\n",
    "    --scopes=https://www.googleapis.com/auth/devstorage.read_only,https://www.googleapis.com/auth/logging.write,https://www.googleapis.com/auth/monitoring.write,https://www.googleapis.com/auth/service.management.readonly,https://www.googleapis.com/auth/servicecontrol,https://www.googleapis.com/auth/trace.append \\\n",
    "    --create-disk=auto-delete=yes,boot=yes,device-name=instance-20240829-120659,image=projects/debian-cloud/global/images/debian-12-bookworm-v20240815,mode=rw,size=30,type=pd-balanced \\\n",
    "    --no-shielded-secure-boot \\\n",
    "    --shielded-vtpm \\\n",
    "    --shielded-integrity-monitoring \\\n",
    "    --labels=goog-ec-src=vm_add-gcloud \\\n",
    "    --reservation-affinity=any'\n",
    "    \n",
    "    os.system(cmd)"
   ]
  },
  {
   "cell_type": "code",
   "execution_count": 75,
   "id": "6b3ce296",
   "metadata": {},
   "outputs": [
    {
     "name": "stdout",
     "output_type": "stream",
     "text": [
      "[main f4232a1f] fc\n",
      " 4 files changed, 42155 insertions(+), 63496 deletions(-)\n"
     ]
    },
    {
     "name": "stderr",
     "output_type": "stream",
     "text": [
      "To github.com:tejas-shivanand-mane/flower.git\n",
      "   bc4dd192..f4232a1f  main -> main\n"
     ]
    },
    {
     "data": {
      "text/plain": [
       "0"
      ]
     },
     "execution_count": 75,
     "metadata": {},
     "output_type": "execute_result"
    }
   ],
   "source": [
    "os.system('git add .; git commit -m \"fc\"; git push origin')"
   ]
  },
  {
   "cell_type": "code",
   "execution_count": 16,
   "id": "2d01b535",
   "metadata": {},
   "outputs": [],
   "source": [
    "def initialize(i):\n",
    "    command = 'gcloud compute ssh --zone \"'+regions[i]+'\" \"flwr-'+f\"{i:03}\"+'\" --project \"ucr-ursa-major-lesani-lab\" --command \"sudo apt -y install git; git clone https://github.com/tejas-shivanand-mane/flower.git;cd flower\"'\n",
    "    os.system(command)"
   ]
  },
  {
   "cell_type": "code",
   "execution_count": 17,
   "id": "a41688a5",
   "metadata": {},
   "outputs": [],
   "source": [
    "def git_pull(i):\n",
    "    command = 'gcloud compute ssh --zone \"'+regions[i]+'\" \"flwr-'+f\"{i:03}\"+'\" --project \"ucr-ursa-major-lesani-lab\" --command \"cd flower; git pull;\"'\n",
    "    os.system(command)"
   ]
  },
  {
   "cell_type": "code",
   "execution_count": 18,
   "id": "bfe60e00",
   "metadata": {},
   "outputs": [],
   "source": [
    "def setup(i):\n",
    "    command = 'gcloud compute ssh --zone \"'+regions[i]+'\" \"flwr-'+f\"{i:03}\"+'\" --project \"ucr-ursa-major-lesani-lab\" --command \"cd flower; sudo sh setup.sh\"'\n",
    "    os.system(command)"
   ]
  },
  {
   "cell_type": "code",
   "execution_count": 19,
   "id": "4f271f36",
   "metadata": {},
   "outputs": [],
   "source": [
    "def clean(i):\n",
    "    command = 'gcloud compute ssh --zone \"us-central1-a\" \"flwr-'+f\"{i:03}\"+'\" --project \"ucr-ursa-major-lesani-lab\" --command \"sudo rm -r flower\"'\n",
    "    os.system(command)"
   ]
  },
  {
   "cell_type": "code",
   "execution_count": 13,
   "id": "4fdcbc32",
   "metadata": {},
   "outputs": [],
   "source": [
    "time.sleep(45)"
   ]
  },
  {
   "cell_type": "code",
   "execution_count": 89,
   "id": "dc7b4741",
   "metadata": {
    "scrolled": true
   },
   "outputs": [
    {
     "name": "stderr",
     "output_type": "stream",
     "text": [
      "\n",
      "WARNING: apt does not have a stable CLI interface. Use with caution in scripts.\n",
      "\n"
     ]
    },
    {
     "name": "stdout",
     "output_type": "stream",
     "text": [
      "Reading package lists...\n",
      "Building dependency tree...\n",
      "Reading state information...\n",
      "The following additional packages will be installed:\n",
      "  git-man liberror-perl patch\n",
      "Suggested packages:\n",
      "  git-daemon-run | git-daemon-sysvinit git-doc git-email git-gui gitk gitweb\n",
      "  git-cvs git-mediawiki git-svn ed diffutils-doc\n",
      "The following NEW packages will be installed:\n",
      "  git git-man liberror-perl patch\n",
      "0 upgraded, 4 newly installed, 0 to remove and 0 not upgraded.\n",
      "Need to get 9377 kB of archives.\n",
      "After this operation, 48.0 MB of additional disk space will be used.\n",
      "Get:1 file:/etc/apt/mirrors/debian.list Mirrorlist [30 B]\n",
      "Get:2 https://deb.debian.org/debian bookworm/main amd64 liberror-perl all 0.17029-2 [29.0 kB]\n",
      "Get:3 https://deb.debian.org/debian bookworm/main amd64 git-man all 1:2.39.2-1.1 [2049 kB]\n",
      "Get:4 https://deb.debian.org/debian bookworm/main amd64 git amd64 1:2.39.2-1.1 [7171 kB]\n",
      "Reading package lists..."
     ]
    },
    {
     "name": "stderr",
     "output_type": "stream",
     "text": [
      "\n",
      "WARNING: apt does not have a stable CLI interface. Use with caution in scripts.\n",
      "\n"
     ]
    },
    {
     "name": "stdout",
     "output_type": "stream",
     "text": [
      "Get:5 https://deb.debian.org/debian bookworm/main amd64 patch amd64 2.7.6-7 [128 kB]\n"
     ]
    },
    {
     "name": "stderr",
     "output_type": "stream",
     "text": [
      "debconf: unable to initialize frontend: Dialog\n",
      "debconf: (Dialog frontend will not work on a dumb terminal, an emacs shell buffer, or without a controlling terminal.)\n",
      "debconf: falling back to frontend: Readline\n",
      "debconf: unable to initialize frontend: Readline\n",
      "debconf: (This frontend requires a controlling tty.)\n",
      "debconf: falling back to frontend: Teletype\n",
      "dpkg-preconfigure: unable to re-open stdin: \n",
      "\n",
      "WARNING: apt does not have a stable CLI interface. Use with caution in scripts.\n",
      "\n"
     ]
    },
    {
     "name": "stdout",
     "output_type": "stream",
     "text": [
      "Fetched 9377 kB in 1s (12.3 MB/s)\n",
      "Reading package lists...Selecting previously unselected package liberror-perl.\n",
      "(Reading database ... 69231 files and directories currently installed.)\n",
      "Preparing to unpack .../liberror-perl_0.17029-2_all.deb ...\n",
      "Unpacking liberror-perl (0.17029-2) ...\n",
      "\n",
      "Selecting previously unselected package git-man.\n",
      "Preparing to unpack .../git-man_1%3a2.39.2-1.1_all.deb ...\n",
      "Unpacking git-man (1:2.39.2-1.1) ...\n",
      "Building dependency tree...Selecting previously unselected package git.\n",
      "Preparing to unpack .../git_1%3a2.39.2-1.1_amd64.deb ...\n",
      "\n",
      "Reading state information...\n",
      "Unpacking git (1:2.39.2-1.1) ...\n",
      "The following additional packages will be installed:\n",
      "  git-man liberror-perl patch\n",
      "Suggested packages:\n",
      "  git-daemon-run | git-daemon-sysvinit git-doc git-email git-gui gitk gitweb\n",
      "  git-cvs git-mediawiki git-svn ed diffutils-doc\n",
      "The following NEW packages will be installed:\n",
      "  git git-man liberror-perl patch\n",
      "\n",
      "0 upgraded, 4 newly installed, 0 to remove and 0 not upgraded.\n",
      "Need to get 9377 kB of archives.\n",
      "After this operation, 48.0 MB of additional disk space will be used.\n",
      "Get:1 file:/etc/apt/mirrors/debian.list Mirrorlist [30 B]\n",
      "Building dependency tree...Get:2 https://deb.debian.org/debian bookworm/main amd64 liberror-perl all 0.17029-2 [29.0 kB]\n",
      "Get:3 https://deb.debian.org/debian bookworm/main amd64 git-man all 1:2.39.2-1.1 [2049 kB]\n",
      "Get:4 https://deb.debian.org/debian bookworm/main amd64 git amd64 1:2.39.2-1.1 [7171 kB]\n",
      "\n",
      "Reading state information...\n",
      "Get:5 https://deb.debian.org/debian bookworm/main amd64 patch amd64 2.7.6-7 [128 kB]\n",
      "The following additional packages will be installed:\n",
      "  git-man liberror-perl patch\n",
      "Suggested packages:\n",
      "  git-daemon-run | git-daemon-sysvinit git-doc git-email git-gui gitk gitweb\n",
      "  git-cvs git-mediawiki git-svn ed diffutils-doc\n",
      "The following NEW packages will be installed:\n",
      "  git git-man liberror-perl patch\n",
      "0 upgraded, 4 newly installed, 0 to remove and 0 not upgraded.\n",
      "Need to get 9377 kB of archives.\n",
      "After this operation, 48.0 MB of additional disk space will be used.\n",
      "Get:1 file:/etc/apt/mirrors/debian.list Mirrorlist [30 B]\n",
      "Get:2 https://deb.debian.org/debian bookworm/main amd64 liberror-perl all 0.17029-2 [29.0 kB]\n",
      "Get:3 https://deb.debian.org/debian bookworm/main amd64 git-man all 1:2.39.2-1.1 [2049 kB]\n",
      "Selecting previously unselected package patch.\n",
      "Preparing to unpack .../patch_2.7.6-7_amd64.deb ...\n",
      "Unpacking patch (2.7.6-7) ...\n",
      "Get:4 https://deb.debian.org/debian bookworm/main amd64 git amd64 1:2.39.2-1.1 [7171 kB]\n",
      "Setting up liberror-perl (0.17029-2) ...\n",
      "Setting up patch (2.7.6-7) ...\n",
      "Get:5 https://deb.debian.org/debian bookworm/main amd64 patch amd64 2.7.6-7 [128 kB]\n",
      "Setting up git-man (1:2.39.2-1.1) ...\n",
      "Setting up git (1:2.39.2-1.1) ...\n"
     ]
    },
    {
     "name": "stderr",
     "output_type": "stream",
     "text": [
      "debconf: unable to initialize frontend: Dialog\n",
      "debconf: (Dialog frontend will not work on a dumb terminal, an emacs shell buffer, or without a controlling terminal.)\n",
      "debconf: falling back to frontend: Readline\n",
      "debconf: unable to initialize frontend: Readline\n",
      "debconf: (This frontend requires a controlling tty.)\n",
      "debconf: falling back to frontend: Teletype\n",
      "dpkg-preconfigure: unable to re-open stdin: \n"
     ]
    },
    {
     "name": "stdout",
     "output_type": "stream",
     "text": [
      "Processing triggers for man-db (2.11.2-2) ...\n",
      "Fetched 9377 kB in 0s (33.2 MB/s)\n",
      "Selecting previously unselected package liberror-perl.\n",
      "(Reading database ... 69231 files and directories currently installed.)\n",
      "Preparing to unpack .../liberror-perl_0.17029-2_all.deb ...\n",
      "Unpacking liberror-perl (0.17029-2) ...\n",
      "Fetched 9377 kB in 0s (24.9 MB/s)\n",
      "Selecting previously unselected package git-man.\n"
     ]
    },
    {
     "name": "stderr",
     "output_type": "stream",
     "text": [
      "debconf: unable to initialize frontend: Dialog\n",
      "debconf: (Dialog frontend will not work on a dumb terminal, an emacs shell buffer, or without a controlling terminal.)\n",
      "debconf: falling back to frontend: Readline\n",
      "debconf: unable to initialize frontend: Readline\n",
      "debconf: (This frontend requires a controlling tty.)\n",
      "debconf: falling back to frontend: Teletype\n",
      "dpkg-preconfigure: unable to re-open stdin: \n"
     ]
    },
    {
     "name": "stdout",
     "output_type": "stream",
     "text": [
      "Preparing to unpack .../git-man_1%3a2.39.2-1.1_all.deb ...\n",
      "Unpacking git-man (1:2.39.2-1.1) ...\n",
      "Selecting previously unselected package liberror-perl.\n",
      "(Reading database ... 69231 files and directories currently installed.)\n",
      "Preparing to unpack .../liberror-perl_0.17029-2_all.deb ...\n",
      "Unpacking liberror-perl (0.17029-2) ...\n",
      "Selecting previously unselected package git-man.\n",
      "Preparing to unpack .../git-man_1%3a2.39.2-1.1_all.deb ...\n",
      "Unpacking git-man (1:2.39.2-1.1) ...\n",
      "Selecting previously unselected package git.\n",
      "Preparing to unpack .../git_1%3a2.39.2-1.1_amd64.deb ...\n",
      "Unpacking git (1:2.39.2-1.1) ...\n",
      "Selecting previously unselected package git.\n",
      "Preparing to unpack .../git_1%3a2.39.2-1.1_amd64.deb ...\n",
      "Unpacking git (1:2.39.2-1.1) ...\n",
      "Selecting previously unselected package patch.\n",
      "Preparing to unpack .../patch_2.7.6-7_amd64.deb ...\n",
      "Unpacking patch (2.7.6-7) ...\n",
      "Setting up liberror-perl (0.17029-2) ...\n",
      "Setting up patch (2.7.6-7) ...\n",
      "Setting up git-man (1:2.39.2-1.1) ...\n",
      "Setting up git (1:2.39.2-1.1) ...\n",
      "Processing triggers for man-db (2.11.2-2) ...\n",
      "Selecting previously unselected package patch.\n",
      "Preparing to unpack .../patch_2.7.6-7_amd64.deb ...\n",
      "Unpacking patch (2.7.6-7) ...\n",
      "Setting up liberror-perl (0.17029-2) ...\n",
      "Setting up patch (2.7.6-7) ...\n",
      "Setting up git-man (1:2.39.2-1.1) ...\n",
      "Setting up git (1:2.39.2-1.1) ...\n",
      "Processing triggers for man-db (2.11.2-2) ...\n"
     ]
    },
    {
     "name": "stderr",
     "output_type": "stream",
     "text": [
      "Cloning into 'flower'...\n",
      "Cloning into 'flower'...\n",
      "Cloning into 'flower'...\n"
     ]
    }
   ],
   "source": [
    "results = Parallel(n_jobs=60)(delayed(initialize)(i) for i in range(3))"
   ]
  },
  {
   "cell_type": "code",
   "execution_count": 120,
   "id": "97ca52ea",
   "metadata": {
    "scrolled": true
   },
   "outputs": [
    {
     "name": "stdout",
     "output_type": "stream",
     "text": [
      "[main a90b3408] fc\n",
      " 5 files changed, 404 insertions(+), 361 deletions(-)\n",
      " rewrite cli_0.out (80%)\n",
      " create mode 100644 cli_1.out\n"
     ]
    },
    {
     "name": "stderr",
     "output_type": "stream",
     "text": [
      "To github.com:tejas-shivanand-mane/flower.git\n",
      "   a390af90..a90b3408  main -> main\n",
      "From https://github.com/tejas-shivanand-mane/flower\n",
      "   a390af90..a90b3408  main       -> origin/main\n"
     ]
    },
    {
     "name": "stdout",
     "output_type": "stream",
     "text": [
      "Updating a390af90..a90b3408\n",
      "Fast-forward\n",
      " cli_0.out                                          | 281 +++++----------------\n",
      " cli_1.out                                          | 158 ++++++++++++\n",
      " .../client.py                                      |   4 +-\n",
      " .../server.py                                      |   4 +-\n",
      " flwr.ipynb                                         | 132 ++++++----\n",
      " 5 files changed, 311 insertions(+), 268 deletions(-)\n",
      " create mode 100644 cli_1.out\n",
      "Updating a390af90..a90b3408\n",
      "Fast-forward\n",
      " cli_0.out                                          | 281 +++++----------------\n",
      " cli_1.out                                          | 158 ++++++++++++\n",
      " .../client.py                                      |   4 +-\n",
      " .../server.py                                      |   4 +-\n",
      " flwr.ipynb                                         | 132 ++++++----\n",
      " 5 files changed, 311 insertions(+), 268 deletions(-)\n",
      " create mode 100644 cli_1.out\n"
     ]
    },
    {
     "name": "stderr",
     "output_type": "stream",
     "text": [
      "From https://github.com/tejas-shivanand-mane/flower\n",
      "   a390af90..a90b3408  main       -> origin/main\n",
      "From https://github.com/tejas-shivanand-mane/flower\n",
      "   a390af90..a90b3408  main       -> origin/main\n"
     ]
    },
    {
     "name": "stdout",
     "output_type": "stream",
     "text": [
      "Updating a390af90..a90b3408\n",
      "Fast-forward\n",
      " cli_0.out                                          | 281 +++++----------------\n",
      " cli_1.out                                          | 158 ++++++++++++\n",
      " .../client.py                                      |   4 +-\n",
      " .../server.py                                      |   4 +-\n",
      " flwr.ipynb                                         | 132 ++++++----\n",
      " 5 files changed, 311 insertions(+), 268 deletions(-)\n",
      " create mode 100644 cli_1.out\n"
     ]
    }
   ],
   "source": [
    "os.system('git add .; git commit -m \"fc\"; git push origin')\n",
    "results = Parallel(n_jobs=60)(delayed(git_pull)(i) for i in range(3))"
   ]
  },
  {
   "cell_type": "code",
   "execution_count": 106,
   "id": "110f6955",
   "metadata": {},
   "outputs": [],
   "source": [
    "# results = Parallel(n_jobs=60)(delayed(setup)(i) for i in range(3))"
   ]
  },
  {
   "cell_type": "code",
   "execution_count": 79,
   "id": "11e90d9d",
   "metadata": {},
   "outputs": [],
   "source": [
    "# results = Parallel(n_jobs=60)(delayed(clean)(i) for i in range(3))"
   ]
  },
  {
   "cell_type": "code",
   "execution_count": 39,
   "id": "2aeff2bd",
   "metadata": {},
   "outputs": [],
   "source": [
    "\n",
    "def update_path(i):\n",
    "    command = 'gcloud compute ssh --zone \"'+regions[i]+'\" \"flwr-'+f\"{i:03}\"+\\\n",
    "    '\" --project \"ucr-ursa-major-lesani-lab\" --command \"printf export\\ PATH=\\$PATH:/home/user/anaconda3/bin/ >> /home/tejas/.bashrc && source /home/tejas/.bashrc\"'\n",
    "    os.system(command)"
   ]
  },
  {
   "cell_type": "code",
   "execution_count": 40,
   "id": "0acd4507",
   "metadata": {},
   "outputs": [],
   "source": [
    "results = Parallel(n_jobs=60)(delayed(update_path)(i) for i in range(3))"
   ]
  },
  {
   "cell_type": "code",
   "execution_count": 29,
   "id": "234c3366",
   "metadata": {},
   "outputs": [],
   "source": [
    "\n",
    "def run_server(i):\n",
    "    command = 'gcloud compute ssh --zone \"'+regions[i]+'\" \"flwr-'+f\"{i:03}\"+\\\n",
    "    '\" --project \"ucr-ursa-major-lesani-lab\" --command \"cd flower/examples/pytorch-from-centralized-to-federated/; sh server.sh\"'\n",
    "    os.system(command)\n",
    "\n",
    "def run_client(i):\n",
    "    command = 'gcloud compute ssh --zone \"'+regions[i]+'\" \"flwr-'+f\"{i:03}\"+\\\n",
    "    '\" --project \"ucr-ursa-major-lesani-lab\" --command \"cd flower/examples/pytorch-from-centralized-to-federated/; sh client.py --partition-id '+str(i)+'\"'\n",
    "    os.system(command)\n",
    "    \n",
    "    \n",
    "def kill_all(i):\n",
    "    command = 'gcloud compute ssh --zone \"'+regions[i]+'\" \"flwr-'+f\"{i:03}\"+\\\n",
    "    '\" --project \"ucr-ursa-major-lesani-lab\" --command \"cd flower/examples/pytorch-from-centralized-to-federated/;sudo killall python\"'\n",
    "    os.system(command)"
   ]
  },
  {
   "cell_type": "code",
   "execution_count": 31,
   "id": "9d04a471",
   "metadata": {},
   "outputs": [],
   "source": [
    "run_server(0)"
   ]
  },
  {
   "cell_type": "code",
   "execution_count": 25,
   "id": "1f96ab51",
   "metadata": {},
   "outputs": [],
   "source": [
    "run_client(1)\n",
    "run_client(0)\n"
   ]
  },
  {
   "cell_type": "code",
   "execution_count": 27,
   "id": "e371e3b0",
   "metadata": {},
   "outputs": [],
   "source": []
  },
  {
   "cell_type": "code",
   "execution_count": null,
   "id": "78c02f63",
   "metadata": {},
   "outputs": [],
   "source": [
    "results = Parallel(n_jobs=60)(delayed(kill_all)(i) for i in range(3))"
   ]
  },
  {
   "cell_type": "code",
   "execution_count": null,
   "id": "10533a8d",
   "metadata": {},
   "outputs": [],
   "source": []
  },
  {
   "cell_type": "code",
   "execution_count": null,
   "id": "aa83900e",
   "metadata": {},
   "outputs": [],
   "source": []
  },
  {
   "cell_type": "code",
   "execution_count": null,
   "id": "3d8a873f",
   "metadata": {},
   "outputs": [],
   "source": [
    "for i in [1]:\n",
    "    command = 'gcloud compute scp --zone \"'+regions[i] +'\"'+' flwr-'+f\"{i:03}\"+':/home/tejas/flower/examples/nohup.out cli0_geo.out'\n",
    "    os.system(command)"
   ]
  },
  {
   "cell_type": "code",
   "execution_count": 117,
   "id": "4d52978c",
   "metadata": {},
   "outputs": [
    {
     "name": "stdout",
     "output_type": "stream",
     "text": [
      "['INFO :      test printout, accuracy: 0.3662, time: 22.661800861358643', 'INFO :      test printout, accuracy: 0.4162, time: 39.38937997817993', 'INFO :      test printout, accuracy: 0.4492, time: 56.67447209358215', 'INFO :      test printout, accuracy: 0.4718, time: 73.25420117378235', 'INFO :      test printout, accuracy: 0.4904, time: 90.05351948738098', 'INFO :      test printout, accuracy: 0.5082, time: 106.89501142501831', 'INFO :      test printout, accuracy: 0.5164, time: 123.98030972480774', 'INFO :      test printout, accuracy: 0.5306, time: 140.60419535636902', 'INFO :      test printout, accuracy: 0.5406, time: 157.27649569511414', 'INFO :      test printout, accuracy: 0.5442, time: 173.88582134246826', 'INFO :      test printout, accuracy: 0.5482, time: 190.77009963989258', 'INFO :      test printout, accuracy: 0.5536, time: 207.55899572372437', 'INFO :      test printout, accuracy: 0.564, time: 232.90310621261597', 'INFO :      test printout, accuracy: 0.569, time: 260.454509973526', 'INFO :      test printout, accuracy: 0.5692, time: 286.5178544521332']\n",
      "[(0.3662, 22.661800861358643), (0.4162, 39.38937997817993), (0.4492, 56.67447209358215), (0.4718, 73.25420117378235), (0.4904, 90.05351948738098), (0.5082, 106.89501142501831), (0.5164, 123.98030972480774), (0.5306, 140.60419535636902), (0.5406, 157.27649569511414), (0.5442, 173.88582134246826), (0.5482, 190.77009963989258), (0.5536, 207.55899572372437), (0.564, 232.90310621261597), (0.569, 260.454509973526), (0.5692, 286.5178544521332)]\n"
     ]
    }
   ],
   "source": [
    "file_path = 'cli_0.out'\n",
    "\n",
    "# Read the file and filter lines containing \"test printout\"\n",
    "with open(file_path, 'r') as file:\n",
    "    lines_with_test_printout = [line.strip() for line in file if \"test printout\" in line]\n",
    "\n",
    "# Output the filtered lines\n",
    "print(lines_with_test_printout)\n",
    "\n",
    "import re\n",
    "\n",
    "\n",
    "# Regex pattern to extract accuracy and time\n",
    "pattern = r\"accuracy: ([\\d.]+), time: ([\\d.]+)\"\n",
    "\n",
    "# Extract accuracy and time using regex\n",
    "results = []\n",
    "for line in lines_with_test_printout:\n",
    "    match = re.search(pattern, line)\n",
    "    if match:\n",
    "        accuracy = float(match.group(1))\n",
    "        time_taken = float(match.group(2))\n",
    "        results.append((accuracy, time_taken))\n",
    "\n",
    "# Output the extracted values\n",
    "print(results)\n",
    "\n",
    "results_local = np.array(results)"
   ]
  },
  {
   "cell_type": "code",
   "execution_count": 118,
   "id": "8b0e2a5b",
   "metadata": {},
   "outputs": [
    {
     "name": "stdout",
     "output_type": "stream",
     "text": [
      "['INFO :      test printout, accuracy: 0.366, time: 27.76108956336975', 'INFO :      test printout, accuracy: 0.4118, time: 44.37848210334778', 'INFO :      test printout, accuracy: 0.4392, time: 61.24978566169739', 'INFO :      test printout, accuracy: 0.4652, time: 78.06426310539246', 'INFO :      test printout, accuracy: 0.4818, time: 95.10236382484436', 'INFO :      test printout, accuracy: 0.4994, time: 111.73805785179138', 'INFO :      test printout, accuracy: 0.514, time: 128.71650457382202', 'INFO :      test printout, accuracy: 0.5236, time: 145.66764163970947', 'INFO :      test printout, accuracy: 0.541, time: 162.50377774238586', 'INFO :      test printout, accuracy: 0.5532, time: 179.5680730342865', 'INFO :      test printout, accuracy: 0.5596, time: 196.74153518676758', 'INFO :      test printout, accuracy: 0.567, time: 220.32383513450623', 'INFO :      test printout, accuracy: 0.5688, time: 248.36687898635864', 'INFO :      test printout, accuracy: 0.5706, time: 276.1665623188019', 'INFO :      test printout, accuracy: 0.5732, time: 303.70295095443726']\n",
      "[(0.366, 27.76108956336975), (0.4118, 44.37848210334778), (0.4392, 61.24978566169739), (0.4652, 78.06426310539246), (0.4818, 95.10236382484436), (0.4994, 111.73805785179138), (0.514, 128.71650457382202), (0.5236, 145.66764163970947), (0.541, 162.50377774238586), (0.5532, 179.5680730342865), (0.5596, 196.74153518676758), (0.567, 220.32383513450623), (0.5688, 248.36687898635864), (0.5706, 276.1665623188019), (0.5732, 303.70295095443726)]\n"
     ]
    }
   ],
   "source": [
    "file_path = 'cli_1.out'\n",
    "\n",
    "# Read the file and filter lines containing \"test printout\"\n",
    "with open(file_path, 'r') as file:\n",
    "    lines_with_test_printout = [line.strip() for line in file if \"test printout\" in line]\n",
    "\n",
    "# Output the filtered lines\n",
    "print(lines_with_test_printout)\n",
    "\n",
    "import re\n",
    "\n",
    "\n",
    "# Regex pattern to extract accuracy and time\n",
    "pattern = r\"accuracy: ([\\d.]+), time: ([\\d.]+)\"\n",
    "\n",
    "# Extract accuracy and time using regex\n",
    "results = []\n",
    "for line in lines_with_test_printout:\n",
    "    match = re.search(pattern, line)\n",
    "    if match:\n",
    "        accuracy = float(match.group(1))\n",
    "        time_taken = float(match.group(2))\n",
    "        results.append((accuracy, time_taken))\n",
    "\n",
    "# Output the extracted values\n",
    "print(results)\n",
    "\n",
    "results_local1 = np.array(results)"
   ]
  },
  {
   "cell_type": "code",
   "execution_count": 121,
   "id": "42c0397c",
   "metadata": {},
   "outputs": [
    {
     "name": "stdout",
     "output_type": "stream",
     "text": [
      "['INFO :      test printout, accuracy: 0.3568, time: 32.97364640235901', 'INFO :      test printout, accuracy: 0.4158, time: 59.80859899520874', 'INFO :      test printout, accuracy: 0.438, time: 86.78499341011047', 'INFO :      test printout, accuracy: 0.468, time: 113.6080265045166', 'INFO :      test printout, accuracy: 0.4946, time: 140.37838411331177', 'INFO :      test printout, accuracy: 0.51, time: 166.99823379516602', 'INFO :      test printout, accuracy: 0.5216, time: 194.2482671737671', 'INFO :      test printout, accuracy: 0.5324, time: 221.14099550247192', 'INFO :      test printout, accuracy: 0.5402, time: 247.8971242904663', 'INFO :      test printout, accuracy: 0.5574, time: 274.83830285072327', 'INFO :      test printout, accuracy: 0.569, time: 301.60909843444824', 'INFO :      test printout, accuracy: 0.5726, time: 328.61742997169495', 'INFO :      test printout, accuracy: 0.5776, time: 355.4678223133087', 'INFO :      test printout, accuracy: 0.5786, time: 382.50175285339355', 'INFO :      test printout, accuracy: 0.5834, time: 409.32265424728394']\n",
      "[(0.3568, 32.97364640235901), (0.4158, 59.80859899520874), (0.438, 86.78499341011047), (0.468, 113.6080265045166), (0.4946, 140.37838411331177), (0.51, 166.99823379516602), (0.5216, 194.2482671737671), (0.5324, 221.14099550247192), (0.5402, 247.8971242904663), (0.5574, 274.83830285072327), (0.569, 301.60909843444824), (0.5726, 328.61742997169495), (0.5776, 355.4678223133087), (0.5786, 382.50175285339355), (0.5834, 409.32265424728394)]\n"
     ]
    }
   ],
   "source": [
    "file_path = 'cli0_geo.out'\n",
    "\n",
    "# Read the file and filter lines containing \"test printout\"\n",
    "with open(file_path, 'r') as file:\n",
    "    lines_with_test_printout = [line.strip() for line in file if \"test printout\" in line]\n",
    "\n",
    "# Output the filtered lines\n",
    "print(lines_with_test_printout)\n",
    "\n",
    "import re\n",
    "\n",
    "\n",
    "# Regex pattern to extract accuracy and time\n",
    "pattern = r\"accuracy: ([\\d.]+), time: ([\\d.]+)\"\n",
    "\n",
    "# Extract accuracy and time using regex\n",
    "results = []\n",
    "for line in lines_with_test_printout:\n",
    "    match = re.search(pattern, line)\n",
    "    if match:\n",
    "        accuracy = float(match.group(1))\n",
    "        time_taken = float(match.group(2))\n",
    "        results.append((accuracy, time_taken))\n",
    "\n",
    "# Output the extracted values\n",
    "print(results)\n",
    "\n",
    "results_geo = np.array(results)"
   ]
  },
  {
   "cell_type": "code",
   "execution_count": 110,
   "id": "f1cf0851",
   "metadata": {},
   "outputs": [
    {
     "data": {
      "text/plain": [
       "array([[3.61000000e-01, 2.81525052e+01],\n",
       "       [4.19000000e-01, 4.89661264e+01],\n",
       "       [4.54600000e-01, 6.95527124e+01],\n",
       "       [4.73400000e-01, 8.99899344e+01],\n",
       "       [4.81800000e-01, 1.10534514e+02],\n",
       "       [5.08200000e-01, 1.31262731e+02],\n",
       "       [5.26000000e-01, 1.52108787e+02],\n",
       "       [5.35000000e-01, 1.75248322e+02],\n",
       "       [5.44400000e-01, 1.98963576e+02],\n",
       "       [5.51000000e-01, 2.19539224e+02],\n",
       "       [5.57800000e-01, 2.40005472e+02],\n",
       "       [5.67200000e-01, 2.60654185e+02],\n",
       "       [5.70600000e-01, 2.81066123e+02],\n",
       "       [5.76400000e-01, 3.01610351e+02],\n",
       "       [5.79400000e-01, 3.22500974e+02],\n",
       "       [5.85800000e-01, 3.43171600e+02],\n",
       "       [5.87600000e-01, 3.63663803e+02],\n",
       "       [5.89800000e-01, 3.84347392e+02],\n",
       "       [5.86400000e-01, 4.05343612e+02],\n",
       "       [5.87200000e-01, 4.25665665e+02],\n",
       "       [5.88400000e-01, 4.46300167e+02],\n",
       "       [5.91400000e-01, 4.67145357e+02],\n",
       "       [5.99000000e-01, 4.87712849e+02],\n",
       "       [6.08800000e-01, 5.08378631e+02],\n",
       "       [6.10400000e-01, 5.28964390e+02],\n",
       "       [6.12800000e-01, 5.49442598e+02],\n",
       "       [6.13800000e-01, 5.70121103e+02],\n",
       "       [6.13400000e-01, 5.90749499e+02],\n",
       "       [6.15200000e-01, 6.11294353e+02],\n",
       "       [6.11400000e-01, 6.31964608e+02]])"
      ]
     },
     "execution_count": 110,
     "metadata": {},
     "output_type": "execute_result"
    }
   ],
   "source": []
  },
  {
   "cell_type": "code",
   "execution_count": 122,
   "id": "95db3655",
   "metadata": {},
   "outputs": [
    {
     "data": {
      "image/png": "[encoded data removed]",
      "text/plain": [
       "<Figure size 600x400 with 1 Axes>"
      ]
     },
     "metadata": {},
     "output_type": "display_data"
    },
    {
     "data": {
      "text/plain": [
       "<Figure size 640x480 with 0 Axes>"
      ]
     },
     "metadata": {},
     "output_type": "display_data"
    }
   ],
   "source": [
    "pl.figure(figsize = (6,4))\n",
    "pl.plot(np.array(list(results_local[:,1])), np.array(list(results_local[:,0])), '-*', label = 'local 1')\n",
    "pl.plot(np.array(list(results_local1[:,1])), np.array(list(results_local1[:,0])), '-*', label = 'local 2')\n",
    "\n",
    "pl.plot(np.array(list(results_geo[:,1])), np.array(list(results_geo[:,0])), '-*', label = 'geo')\n",
    "pl.legend()\n",
    "pl.ylabel('Training accuracy')\n",
    "\n",
    "pl.xlabel('time (sec)')\n",
    "pl.show()\n",
    "pl.clf()"
   ]
  },
  {
   "cell_type": "code",
   "execution_count": null,
   "id": "80590680",
   "metadata": {},
   "outputs": [],
   "source": []
  }
 ],
 "metadata": {
  "kernelspec": {
   "display_name": "Python 3 (ipykernel)",
   "language": "python",
   "name": "python3"
  },
  "language_info": {
   "codemirror_mode": {
    "name": "ipython",
    "version": 3
   },
   "file_extension": ".py",
   "mimetype": "text/x-python",
   "name": "python",
   "nbconvert_exporter": "python",
   "pygments_lexer": "ipython3",
   "version": "3.11.5"
  }
 },
 "nbformat": 4,
 "nbformat_minor": 5
}
